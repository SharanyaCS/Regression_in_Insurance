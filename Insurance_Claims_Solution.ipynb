{
  "nbformat": 4,
  "nbformat_minor": 0,
  "metadata": {
    "kernelspec": {
      "display_name": "Python 3",
      "language": "python",
      "name": "python3"
    },
    "language_info": {
      "codemirror_mode": {
        "name": "ipython",
        "version": 3
      },
      "file_extension": ".py",
      "mimetype": "text/x-python",
      "name": "python",
      "nbconvert_exporter": "python",
      "pygments_lexer": "ipython3",
      "version": "3.7.4"
    },
    "colab": {
      "name": "Insurance Claims Solution.ipynb",
      "provenance": [],
      "collapsed_sections": [],
      "include_colab_link": true
    }
  },
  "cells": [
    {
      "cell_type": "markdown",
      "metadata": {
        "id": "view-in-github",
        "colab_type": "text"
      },
      "source": [
        "<a href=\"https://colab.research.google.com/github/e-ayeni/Regression_in_Insurance/blob/master/Insurance_Claims_Solution.ipynb\" target=\"_parent\"><img src=\"https://colab.research.google.com/assets/colab-badge.svg\" alt=\"Open In Colab\"/></a>"
      ]
    },
    {
      "cell_type": "code",
      "metadata": {
        "id": "3FBvNVSUpzvB",
        "colab_type": "code",
        "colab": {
          "base_uri": "https://localhost:8080/",
          "height": 130
        },
        "outputId": "dd68e348-b7be-474d-ee4f-84ce9242dbbd"
      },
      "source": [
        "from google.colab import drive #mounting my google drive\n",
        "drive.mount('/content/gdrive')"
      ],
      "execution_count": 1,
      "outputs": [
        {
          "output_type": "stream",
          "text": [
            "Go to this URL in a browser: https://accounts.google.com/o/oauth2/auth?client_id=947318989803-6bn6qk8qdgf4n4g3pfee6491hc0brc4i.apps.googleusercontent.com&redirect_uri=urn%3aietf%3awg%3aoauth%3a2.0%3aoob&response_type=code&scope=email%20https%3a%2f%2fwww.googleapis.com%2fauth%2fdocs.test%20https%3a%2f%2fwww.googleapis.com%2fauth%2fdrive%20https%3a%2f%2fwww.googleapis.com%2fauth%2fdrive.photos.readonly%20https%3a%2f%2fwww.googleapis.com%2fauth%2fpeopleapi.readonly\n",
            "\n",
            "Enter your authorization code:\n",
            "··········\n",
            "Mounted at /content/gdrive\n"
          ],
          "name": "stdout"
        }
      ]
    },
    {
      "cell_type": "code",
      "metadata": {
        "id": "4uQuy4hhpoUK",
        "colab_type": "code",
        "colab": {
          "base_uri": "https://localhost:8080/",
          "height": 54
        },
        "outputId": "eaee5c3b-84b3-4889-94b4-7462d3336082"
      },
      "source": [
        "import pandas as pd\n",
        "from pandas import DataFrame as df\n",
        "import numpy as np\n",
        "import seaborn as sns\n",
        "import matplotlib.pyplot as plt\n",
        "pd.options.mode.chained_assignment = None\n",
        "%matplotlib inline"
      ],
      "execution_count": 2,
      "outputs": [
        {
          "output_type": "stream",
          "text": [
            "/usr/local/lib/python3.6/dist-packages/statsmodels/tools/_testing.py:19: FutureWarning: pandas.util.testing is deprecated. Use the functions in the public API at pandas.testing instead.\n",
            "  import pandas.util.testing as tm\n"
          ],
          "name": "stderr"
        }
      ]
    },
    {
      "cell_type": "code",
      "metadata": {
        "id": "zK8sUECNpoUN",
        "colab_type": "code",
        "colab": {}
      },
      "source": [
        "train = pd.read_csv(\"gdrive/My Drive/Medium Projects/Insurance Claims Competition/train_data.csv\")\n",
        "test = pd.read_csv(\"gdrive/My Drive/Medium Projects/Insurance Claims Competition/test_data.csv\")"
      ],
      "execution_count": 3,
      "outputs": []
    },
    {
      "cell_type": "code",
      "metadata": {
        "id": "JGl0QGp6poUQ",
        "colab_type": "code",
        "colab": {
          "base_uri": "https://localhost:8080/",
          "height": 206
        },
        "outputId": "5e3d1d05-8f8f-494e-d53c-f8bddc09854d"
      },
      "source": [
        "train.head()"
      ],
      "execution_count": 4,
      "outputs": [
        {
          "output_type": "execute_result",
          "data": {
            "text/html": [
              "<div>\n",
              "<style scoped>\n",
              "    .dataframe tbody tr th:only-of-type {\n",
              "        vertical-align: middle;\n",
              "    }\n",
              "\n",
              "    .dataframe tbody tr th {\n",
              "        vertical-align: top;\n",
              "    }\n",
              "\n",
              "    .dataframe thead th {\n",
              "        text-align: right;\n",
              "    }\n",
              "</style>\n",
              "<table border=\"1\" class=\"dataframe\">\n",
              "  <thead>\n",
              "    <tr style=\"text-align: right;\">\n",
              "      <th></th>\n",
              "      <th>Customer Id</th>\n",
              "      <th>YearOfObservation</th>\n",
              "      <th>Insured_Period</th>\n",
              "      <th>Residential</th>\n",
              "      <th>Building_Painted</th>\n",
              "      <th>Building_Fenced</th>\n",
              "      <th>Garden</th>\n",
              "      <th>Settlement</th>\n",
              "      <th>Building Dimension</th>\n",
              "      <th>Building_Type</th>\n",
              "      <th>Date_of_Occupancy</th>\n",
              "      <th>NumberOfWindows</th>\n",
              "      <th>Geo_Code</th>\n",
              "      <th>Claim</th>\n",
              "    </tr>\n",
              "  </thead>\n",
              "  <tbody>\n",
              "    <tr>\n",
              "      <th>0</th>\n",
              "      <td>H14663</td>\n",
              "      <td>2013</td>\n",
              "      <td>1.0</td>\n",
              "      <td>0</td>\n",
              "      <td>N</td>\n",
              "      <td>V</td>\n",
              "      <td>V</td>\n",
              "      <td>U</td>\n",
              "      <td>290.0</td>\n",
              "      <td>1</td>\n",
              "      <td>1960.0</td>\n",
              "      <td>.</td>\n",
              "      <td>1053</td>\n",
              "      <td>0</td>\n",
              "    </tr>\n",
              "    <tr>\n",
              "      <th>1</th>\n",
              "      <td>H2037</td>\n",
              "      <td>2015</td>\n",
              "      <td>1.0</td>\n",
              "      <td>0</td>\n",
              "      <td>V</td>\n",
              "      <td>N</td>\n",
              "      <td>O</td>\n",
              "      <td>R</td>\n",
              "      <td>490.0</td>\n",
              "      <td>1</td>\n",
              "      <td>1850.0</td>\n",
              "      <td>4</td>\n",
              "      <td>1053</td>\n",
              "      <td>0</td>\n",
              "    </tr>\n",
              "    <tr>\n",
              "      <th>2</th>\n",
              "      <td>H3802</td>\n",
              "      <td>2014</td>\n",
              "      <td>1.0</td>\n",
              "      <td>0</td>\n",
              "      <td>N</td>\n",
              "      <td>V</td>\n",
              "      <td>V</td>\n",
              "      <td>U</td>\n",
              "      <td>595.0</td>\n",
              "      <td>1</td>\n",
              "      <td>1960.0</td>\n",
              "      <td>.</td>\n",
              "      <td>1053</td>\n",
              "      <td>0</td>\n",
              "    </tr>\n",
              "    <tr>\n",
              "      <th>3</th>\n",
              "      <td>H3834</td>\n",
              "      <td>2013</td>\n",
              "      <td>1.0</td>\n",
              "      <td>0</td>\n",
              "      <td>V</td>\n",
              "      <td>V</td>\n",
              "      <td>V</td>\n",
              "      <td>U</td>\n",
              "      <td>2840.0</td>\n",
              "      <td>1</td>\n",
              "      <td>1960.0</td>\n",
              "      <td>.</td>\n",
              "      <td>1053</td>\n",
              "      <td>0</td>\n",
              "    </tr>\n",
              "    <tr>\n",
              "      <th>4</th>\n",
              "      <td>H5053</td>\n",
              "      <td>2014</td>\n",
              "      <td>1.0</td>\n",
              "      <td>0</td>\n",
              "      <td>V</td>\n",
              "      <td>N</td>\n",
              "      <td>O</td>\n",
              "      <td>R</td>\n",
              "      <td>680.0</td>\n",
              "      <td>1</td>\n",
              "      <td>1800.0</td>\n",
              "      <td>3</td>\n",
              "      <td>1053</td>\n",
              "      <td>0</td>\n",
              "    </tr>\n",
              "  </tbody>\n",
              "</table>\n",
              "</div>"
            ],
            "text/plain": [
              "  Customer Id  YearOfObservation  ...  Geo_Code  Claim\n",
              "0      H14663               2013  ...      1053      0\n",
              "1       H2037               2015  ...      1053      0\n",
              "2       H3802               2014  ...      1053      0\n",
              "3       H3834               2013  ...      1053      0\n",
              "4       H5053               2014  ...      1053      0\n",
              "\n",
              "[5 rows x 14 columns]"
            ]
          },
          "metadata": {
            "tags": []
          },
          "execution_count": 4
        }
      ]
    },
    {
      "cell_type": "code",
      "metadata": {
        "id": "WH_Z6HDWpoUT",
        "colab_type": "code",
        "colab": {
          "base_uri": "https://localhost:8080/",
          "height": 301
        },
        "outputId": "1fca4cc5-33b3-4891-aca8-3d290c797fce"
      },
      "source": [
        "#brief describtion of the dataset\n",
        "\n",
        "train.describe()"
      ],
      "execution_count": 5,
      "outputs": [
        {
          "output_type": "execute_result",
          "data": {
            "text/html": [
              "<div>\n",
              "<style scoped>\n",
              "    .dataframe tbody tr th:only-of-type {\n",
              "        vertical-align: middle;\n",
              "    }\n",
              "\n",
              "    .dataframe tbody tr th {\n",
              "        vertical-align: top;\n",
              "    }\n",
              "\n",
              "    .dataframe thead th {\n",
              "        text-align: right;\n",
              "    }\n",
              "</style>\n",
              "<table border=\"1\" class=\"dataframe\">\n",
              "  <thead>\n",
              "    <tr style=\"text-align: right;\">\n",
              "      <th></th>\n",
              "      <th>YearOfObservation</th>\n",
              "      <th>Insured_Period</th>\n",
              "      <th>Residential</th>\n",
              "      <th>Building Dimension</th>\n",
              "      <th>Building_Type</th>\n",
              "      <th>Date_of_Occupancy</th>\n",
              "      <th>Claim</th>\n",
              "    </tr>\n",
              "  </thead>\n",
              "  <tbody>\n",
              "    <tr>\n",
              "      <th>count</th>\n",
              "      <td>7160.000000</td>\n",
              "      <td>7160.000000</td>\n",
              "      <td>7160.000000</td>\n",
              "      <td>7054.000000</td>\n",
              "      <td>7160.000000</td>\n",
              "      <td>6652.000000</td>\n",
              "      <td>7160.000000</td>\n",
              "    </tr>\n",
              "    <tr>\n",
              "      <th>mean</th>\n",
              "      <td>2013.669553</td>\n",
              "      <td>0.909758</td>\n",
              "      <td>0.305447</td>\n",
              "      <td>1883.727530</td>\n",
              "      <td>2.186034</td>\n",
              "      <td>1964.456404</td>\n",
              "      <td>0.228212</td>\n",
              "    </tr>\n",
              "    <tr>\n",
              "      <th>std</th>\n",
              "      <td>1.383769</td>\n",
              "      <td>0.239756</td>\n",
              "      <td>0.460629</td>\n",
              "      <td>2278.157745</td>\n",
              "      <td>0.940632</td>\n",
              "      <td>36.002014</td>\n",
              "      <td>0.419709</td>\n",
              "    </tr>\n",
              "    <tr>\n",
              "      <th>min</th>\n",
              "      <td>2012.000000</td>\n",
              "      <td>0.000000</td>\n",
              "      <td>0.000000</td>\n",
              "      <td>1.000000</td>\n",
              "      <td>1.000000</td>\n",
              "      <td>1545.000000</td>\n",
              "      <td>0.000000</td>\n",
              "    </tr>\n",
              "    <tr>\n",
              "      <th>25%</th>\n",
              "      <td>2012.000000</td>\n",
              "      <td>0.997268</td>\n",
              "      <td>0.000000</td>\n",
              "      <td>528.000000</td>\n",
              "      <td>2.000000</td>\n",
              "      <td>1960.000000</td>\n",
              "      <td>0.000000</td>\n",
              "    </tr>\n",
              "    <tr>\n",
              "      <th>50%</th>\n",
              "      <td>2013.000000</td>\n",
              "      <td>1.000000</td>\n",
              "      <td>0.000000</td>\n",
              "      <td>1083.000000</td>\n",
              "      <td>2.000000</td>\n",
              "      <td>1970.000000</td>\n",
              "      <td>0.000000</td>\n",
              "    </tr>\n",
              "    <tr>\n",
              "      <th>75%</th>\n",
              "      <td>2015.000000</td>\n",
              "      <td>1.000000</td>\n",
              "      <td>1.000000</td>\n",
              "      <td>2289.750000</td>\n",
              "      <td>3.000000</td>\n",
              "      <td>1980.000000</td>\n",
              "      <td>0.000000</td>\n",
              "    </tr>\n",
              "    <tr>\n",
              "      <th>max</th>\n",
              "      <td>2016.000000</td>\n",
              "      <td>1.000000</td>\n",
              "      <td>1.000000</td>\n",
              "      <td>20940.000000</td>\n",
              "      <td>4.000000</td>\n",
              "      <td>2016.000000</td>\n",
              "      <td>1.000000</td>\n",
              "    </tr>\n",
              "  </tbody>\n",
              "</table>\n",
              "</div>"
            ],
            "text/plain": [
              "       YearOfObservation  Insured_Period  ...  Date_of_Occupancy        Claim\n",
              "count        7160.000000     7160.000000  ...        6652.000000  7160.000000\n",
              "mean         2013.669553        0.909758  ...        1964.456404     0.228212\n",
              "std             1.383769        0.239756  ...          36.002014     0.419709\n",
              "min          2012.000000        0.000000  ...        1545.000000     0.000000\n",
              "25%          2012.000000        0.997268  ...        1960.000000     0.000000\n",
              "50%          2013.000000        1.000000  ...        1970.000000     0.000000\n",
              "75%          2015.000000        1.000000  ...        1980.000000     0.000000\n",
              "max          2016.000000        1.000000  ...        2016.000000     1.000000\n",
              "\n",
              "[8 rows x 7 columns]"
            ]
          },
          "metadata": {
            "tags": []
          },
          "execution_count": 5
        }
      ]
    },
    {
      "cell_type": "code",
      "metadata": {
        "id": "bkWQov8DpoUW",
        "colab_type": "code",
        "colab": {
          "base_uri": "https://localhost:8080/",
          "height": 296
        },
        "outputId": "bdcd792c-71fc-417c-8dd1-f3d51672b5f1"
      },
      "source": [
        "#checking for null values in the dataset and decide on how to treat them\n",
        "\n",
        "train.isnull().sum()"
      ],
      "execution_count": 6,
      "outputs": [
        {
          "output_type": "execute_result",
          "data": {
            "text/plain": [
              "Customer Id             0\n",
              "YearOfObservation       0\n",
              "Insured_Period          0\n",
              "Residential             0\n",
              "Building_Painted        0\n",
              "Building_Fenced         0\n",
              "Garden                  7\n",
              "Settlement              0\n",
              "Building Dimension    106\n",
              "Building_Type           0\n",
              "Date_of_Occupancy     508\n",
              "NumberOfWindows         0\n",
              "Geo_Code              102\n",
              "Claim                   0\n",
              "dtype: int64"
            ]
          },
          "metadata": {
            "tags": []
          },
          "execution_count": 6
        }
      ]
    },
    {
      "cell_type": "code",
      "metadata": {
        "id": "OIh_xZmvcl46",
        "colab_type": "code",
        "colab": {
          "base_uri": "https://localhost:8080/",
          "height": 206
        },
        "outputId": "fd95c9ae-3d35-48cf-8fb2-469447908ab7"
      },
      "source": [
        "test.head()"
      ],
      "execution_count": 7,
      "outputs": [
        {
          "output_type": "execute_result",
          "data": {
            "text/html": [
              "<div>\n",
              "<style scoped>\n",
              "    .dataframe tbody tr th:only-of-type {\n",
              "        vertical-align: middle;\n",
              "    }\n",
              "\n",
              "    .dataframe tbody tr th {\n",
              "        vertical-align: top;\n",
              "    }\n",
              "\n",
              "    .dataframe thead th {\n",
              "        text-align: right;\n",
              "    }\n",
              "</style>\n",
              "<table border=\"1\" class=\"dataframe\">\n",
              "  <thead>\n",
              "    <tr style=\"text-align: right;\">\n",
              "      <th></th>\n",
              "      <th>Customer Id</th>\n",
              "      <th>YearOfObservation</th>\n",
              "      <th>Insured_Period</th>\n",
              "      <th>Residential</th>\n",
              "      <th>Building_Painted</th>\n",
              "      <th>Building_Fenced</th>\n",
              "      <th>Garden</th>\n",
              "      <th>Settlement</th>\n",
              "      <th>Building Dimension</th>\n",
              "      <th>Building_Type</th>\n",
              "      <th>Date_of_Occupancy</th>\n",
              "      <th>NumberOfWindows</th>\n",
              "      <th>Geo_Code</th>\n",
              "    </tr>\n",
              "  </thead>\n",
              "  <tbody>\n",
              "    <tr>\n",
              "      <th>0</th>\n",
              "      <td>H11920</td>\n",
              "      <td>2013</td>\n",
              "      <td>1.000000</td>\n",
              "      <td>0</td>\n",
              "      <td>V</td>\n",
              "      <td>N</td>\n",
              "      <td>O</td>\n",
              "      <td>R</td>\n",
              "      <td>300.0</td>\n",
              "      <td>1</td>\n",
              "      <td>1960.0</td>\n",
              "      <td>3</td>\n",
              "      <td>3310</td>\n",
              "    </tr>\n",
              "    <tr>\n",
              "      <th>1</th>\n",
              "      <td>H11921</td>\n",
              "      <td>2016</td>\n",
              "      <td>0.997268</td>\n",
              "      <td>0</td>\n",
              "      <td>V</td>\n",
              "      <td>N</td>\n",
              "      <td>O</td>\n",
              "      <td>R</td>\n",
              "      <td>300.0</td>\n",
              "      <td>1</td>\n",
              "      <td>1960.0</td>\n",
              "      <td>3</td>\n",
              "      <td>3310</td>\n",
              "    </tr>\n",
              "    <tr>\n",
              "      <th>2</th>\n",
              "      <td>H9805</td>\n",
              "      <td>2013</td>\n",
              "      <td>0.369863</td>\n",
              "      <td>0</td>\n",
              "      <td>V</td>\n",
              "      <td>V</td>\n",
              "      <td>V</td>\n",
              "      <td>U</td>\n",
              "      <td>790.0</td>\n",
              "      <td>1</td>\n",
              "      <td>1960.0</td>\n",
              "      <td>.</td>\n",
              "      <td>3310</td>\n",
              "    </tr>\n",
              "    <tr>\n",
              "      <th>3</th>\n",
              "      <td>H7493</td>\n",
              "      <td>2014</td>\n",
              "      <td>1.000000</td>\n",
              "      <td>0</td>\n",
              "      <td>V</td>\n",
              "      <td>N</td>\n",
              "      <td>O</td>\n",
              "      <td>R</td>\n",
              "      <td>1405.0</td>\n",
              "      <td>1</td>\n",
              "      <td>2004.0</td>\n",
              "      <td>3</td>\n",
              "      <td>3321</td>\n",
              "    </tr>\n",
              "    <tr>\n",
              "      <th>4</th>\n",
              "      <td>H7494</td>\n",
              "      <td>2016</td>\n",
              "      <td>1.000000</td>\n",
              "      <td>0</td>\n",
              "      <td>V</td>\n",
              "      <td>N</td>\n",
              "      <td>O</td>\n",
              "      <td>R</td>\n",
              "      <td>1405.0</td>\n",
              "      <td>1</td>\n",
              "      <td>2004.0</td>\n",
              "      <td>3</td>\n",
              "      <td>3321</td>\n",
              "    </tr>\n",
              "  </tbody>\n",
              "</table>\n",
              "</div>"
            ],
            "text/plain": [
              "  Customer Id  YearOfObservation  ...  NumberOfWindows  Geo_Code\n",
              "0      H11920               2013  ...                3      3310\n",
              "1      H11921               2016  ...                3      3310\n",
              "2       H9805               2013  ...                .      3310\n",
              "3       H7493               2014  ...                3      3321\n",
              "4       H7494               2016  ...                3      3321\n",
              "\n",
              "[5 rows x 13 columns]"
            ]
          },
          "metadata": {
            "tags": []
          },
          "execution_count": 7
        }
      ]
    },
    {
      "cell_type": "code",
      "metadata": {
        "id": "hbyrBXF7poUY",
        "colab_type": "code",
        "colab": {
          "base_uri": "https://localhost:8080/",
          "height": 278
        },
        "outputId": "805d6f13-e51e-47ed-c33a-583cd908c456"
      },
      "source": [
        "test.isnull().sum()"
      ],
      "execution_count": 8,
      "outputs": [
        {
          "output_type": "execute_result",
          "data": {
            "text/plain": [
              "Customer Id             0\n",
              "YearOfObservation       0\n",
              "Insured_Period          0\n",
              "Residential             0\n",
              "Building_Painted        0\n",
              "Building_Fenced         0\n",
              "Garden                  4\n",
              "Settlement              0\n",
              "Building Dimension     13\n",
              "Building_Type           0\n",
              "Date_of_Occupancy     728\n",
              "NumberOfWindows         0\n",
              "Geo_Code               13\n",
              "dtype: int64"
            ]
          },
          "metadata": {
            "tags": []
          },
          "execution_count": 8
        }
      ]
    },
    {
      "cell_type": "markdown",
      "metadata": {
        "id": "1Beuigg6poUa",
        "colab_type": "text"
      },
      "source": [
        "**<h1>Data Preparation and Analysis<h1>**"
      ]
    },
    {
      "cell_type": "markdown",
      "metadata": {
        "id": "uWfYCpzVpoUb",
        "colab_type": "text"
      },
      "source": [
        "**<h3> Treating Null Values<h3>**\n",
        "    \n",
        "\n",
        "   <h6>1. Garden = Fill Null with the majority between V & O<h6>\n",
        "   <h6>2. Building Dimension = Fill with average if it is located in rural or urban area<h6>\n",
        "   <h6>3. Date_of_Occupancy = Fill with majority year if it is located in rural or urban area<h6>\n",
        "   <h6>4. Geo_Code = Fill with majority if it is located in rural or urban area<h6>\n",
        "\n",
        "\n"
      ]
    },
    {
      "cell_type": "markdown",
      "metadata": {
        "id": "S_fvx02upoUb",
        "colab_type": "text"
      },
      "source": [
        "<h4>1. Garden<h4>"
      ]
    },
    {
      "cell_type": "code",
      "metadata": {
        "id": "s3whL3Z_poUc",
        "colab_type": "code",
        "colab": {
          "base_uri": "https://localhost:8080/",
          "height": 73
        },
        "outputId": "a32899b5-b2bb-4399-fa4b-a6147af71324"
      },
      "source": [
        "#fill null values for garden. \"O\" which means no garden is the majority\n",
        "\n",
        "train[\"Garden\"].value_counts()"
      ],
      "execution_count": 9,
      "outputs": [
        {
          "output_type": "execute_result",
          "data": {
            "text/plain": [
              "O    3602\n",
              "V    3551\n",
              "Name: Garden, dtype: int64"
            ]
          },
          "metadata": {
            "tags": []
          },
          "execution_count": 9
        }
      ]
    },
    {
      "cell_type": "code",
      "metadata": {
        "id": "y5guMsZhpoUj",
        "colab_type": "code",
        "colab": {}
      },
      "source": [
        "train[\"Garden\"].fillna(\"O\", inplace=True)\n",
        "test[\"Garden\"].fillna(\"O\", inplace=True)"
      ],
      "execution_count": 10,
      "outputs": []
    },
    {
      "cell_type": "markdown",
      "metadata": {
        "id": "ZM_JDXzhpoUm",
        "colab_type": "text"
      },
      "source": [
        "<h4>2. Building Dimension<h4>"
      ]
    },
    {
      "cell_type": "code",
      "metadata": {
        "id": "opKDDEQNpoUm",
        "colab_type": "code",
        "colab": {}
      },
      "source": [
        "settlement = train[[\"Building Dimension\", \"Settlement\"]]"
      ],
      "execution_count": 11,
      "outputs": []
    },
    {
      "cell_type": "code",
      "metadata": {
        "id": "Q7y0LyKIpoUp",
        "colab_type": "code",
        "colab": {
          "base_uri": "https://localhost:8080/",
          "height": 206
        },
        "outputId": "6ef366b9-3552-46ae-c4e9-d3294dcc605a"
      },
      "source": [
        "settlement.head()"
      ],
      "execution_count": 12,
      "outputs": [
        {
          "output_type": "execute_result",
          "data": {
            "text/html": [
              "<div>\n",
              "<style scoped>\n",
              "    .dataframe tbody tr th:only-of-type {\n",
              "        vertical-align: middle;\n",
              "    }\n",
              "\n",
              "    .dataframe tbody tr th {\n",
              "        vertical-align: top;\n",
              "    }\n",
              "\n",
              "    .dataframe thead th {\n",
              "        text-align: right;\n",
              "    }\n",
              "</style>\n",
              "<table border=\"1\" class=\"dataframe\">\n",
              "  <thead>\n",
              "    <tr style=\"text-align: right;\">\n",
              "      <th></th>\n",
              "      <th>Building Dimension</th>\n",
              "      <th>Settlement</th>\n",
              "    </tr>\n",
              "  </thead>\n",
              "  <tbody>\n",
              "    <tr>\n",
              "      <th>0</th>\n",
              "      <td>290.0</td>\n",
              "      <td>U</td>\n",
              "    </tr>\n",
              "    <tr>\n",
              "      <th>1</th>\n",
              "      <td>490.0</td>\n",
              "      <td>R</td>\n",
              "    </tr>\n",
              "    <tr>\n",
              "      <th>2</th>\n",
              "      <td>595.0</td>\n",
              "      <td>U</td>\n",
              "    </tr>\n",
              "    <tr>\n",
              "      <th>3</th>\n",
              "      <td>2840.0</td>\n",
              "      <td>U</td>\n",
              "    </tr>\n",
              "    <tr>\n",
              "      <th>4</th>\n",
              "      <td>680.0</td>\n",
              "      <td>R</td>\n",
              "    </tr>\n",
              "  </tbody>\n",
              "</table>\n",
              "</div>"
            ],
            "text/plain": [
              "   Building Dimension Settlement\n",
              "0               290.0          U\n",
              "1               490.0          R\n",
              "2               595.0          U\n",
              "3              2840.0          U\n",
              "4               680.0          R"
            ]
          },
          "metadata": {
            "tags": []
          },
          "execution_count": 12
        }
      ]
    },
    {
      "cell_type": "code",
      "metadata": {
        "id": "4NZarwbIpoUs",
        "colab_type": "code",
        "colab": {
          "base_uri": "https://localhost:8080/",
          "height": 36
        },
        "outputId": "aaa0817b-85fb-4cfe-acd6-103cf4b89c25"
      },
      "source": [
        "#check which settlement type has majority of the null values\n",
        "#rural has just 1 while urban has 105\n",
        "#all null values will be filled with the average of rural building dimensions\n",
        "\n",
        "settlement[settlement[\"Settlement\"]==\"U\"][\"Building Dimension\"].isnull().sum()"
      ],
      "execution_count": 13,
      "outputs": [
        {
          "output_type": "execute_result",
          "data": {
            "text/plain": [
              "105"
            ]
          },
          "metadata": {
            "tags": []
          },
          "execution_count": 13
        }
      ]
    },
    {
      "cell_type": "code",
      "metadata": {
        "id": "1DjNpEogpoUw",
        "colab_type": "code",
        "colab": {
          "base_uri": "https://localhost:8080/",
          "height": 36
        },
        "outputId": "57095253-dd0c-4306-cdbb-fd899065daa8"
      },
      "source": [
        "#average size for buildings in urban areas\n",
        "\n",
        "urban_  = settlement[settlement[\"Settlement\"]==\"U\"][\"Building Dimension\"].mean()\n",
        "urban_"
      ],
      "execution_count": 14,
      "outputs": [
        {
          "output_type": "execute_result",
          "data": {
            "text/plain": [
              "1575.211611030479"
            ]
          },
          "metadata": {
            "tags": []
          },
          "execution_count": 14
        }
      ]
    },
    {
      "cell_type": "code",
      "metadata": {
        "id": "9Xf4Z2pJpoUy",
        "colab_type": "code",
        "colab": {}
      },
      "source": [
        "#filling null values for building dimensions\n",
        "\n",
        "train[\"Building Dimension\"].fillna(urban_, inplace=True)\n",
        "test[\"Building Dimension\"].fillna(urban_, inplace=True)"
      ],
      "execution_count": 15,
      "outputs": []
    },
    {
      "cell_type": "code",
      "metadata": {
        "id": "G4BwwS_0poU1",
        "colab_type": "code",
        "colab": {
          "base_uri": "https://localhost:8080/",
          "height": 36
        },
        "outputId": "8c369b2e-5246-428b-ad67-c74e5723e653"
      },
      "source": [
        "#quick check\n",
        "\n",
        "train[\"Building Dimension\"].isnull().sum()"
      ],
      "execution_count": 16,
      "outputs": [
        {
          "output_type": "execute_result",
          "data": {
            "text/plain": [
              "0"
            ]
          },
          "metadata": {
            "tags": []
          },
          "execution_count": 16
        }
      ]
    },
    {
      "cell_type": "code",
      "metadata": {
        "id": "pOGXAoq7poU3",
        "colab_type": "code",
        "colab": {
          "base_uri": "https://localhost:8080/",
          "height": 296
        },
        "outputId": "9ae4f0f2-45ea-4782-9d9f-fcabcb3d8c4e"
      },
      "source": [
        "train.isnull().sum()"
      ],
      "execution_count": 17,
      "outputs": [
        {
          "output_type": "execute_result",
          "data": {
            "text/plain": [
              "Customer Id             0\n",
              "YearOfObservation       0\n",
              "Insured_Period          0\n",
              "Residential             0\n",
              "Building_Painted        0\n",
              "Building_Fenced         0\n",
              "Garden                  0\n",
              "Settlement              0\n",
              "Building Dimension      0\n",
              "Building_Type           0\n",
              "Date_of_Occupancy     508\n",
              "NumberOfWindows         0\n",
              "Geo_Code              102\n",
              "Claim                   0\n",
              "dtype: int64"
            ]
          },
          "metadata": {
            "tags": []
          },
          "execution_count": 17
        }
      ]
    },
    {
      "cell_type": "markdown",
      "metadata": {
        "id": "7jGeRLGMpoU5",
        "colab_type": "text"
      },
      "source": [
        "<h4>3. Date_of_Occupancy<h4>"
      ]
    },
    {
      "cell_type": "code",
      "metadata": {
        "id": "aLr8Sy8apoU6",
        "colab_type": "code",
        "colab": {
          "base_uri": "https://localhost:8080/",
          "height": 36
        },
        "outputId": "17df9af8-208b-4c83-f42e-252ae32acd0d"
      },
      "source": [
        "#check which settlement type has majority of null values\n",
        "#urban has majority with 507 while rural has just 1\n",
        "#null values will be filled with the highest occuring date of occupancy from buildings in urban settlement\n",
        "\n",
        "train[train[\"Settlement\"]==\"U\"][\"Date_of_Occupancy\"].isnull().sum()"
      ],
      "execution_count": 18,
      "outputs": [
        {
          "output_type": "execute_result",
          "data": {
            "text/plain": [
              "507"
            ]
          },
          "metadata": {
            "tags": []
          },
          "execution_count": 18
        }
      ]
    },
    {
      "cell_type": "code",
      "metadata": {
        "id": "yHC2GInTpoU8",
        "colab_type": "code",
        "colab": {
          "base_uri": "https://localhost:8080/",
          "height": 54
        },
        "outputId": "c3aafc06-6fa8-4ae3-eea7-5a8b29e59076"
      },
      "source": [
        "#highest occuring date of occupancy is 1960\n",
        "\n",
        "date = train[train[\"Settlement\"]==\"U\"][\"Date_of_Occupancy\"].value_counts().head(1)\n",
        "date"
      ],
      "execution_count": 19,
      "outputs": [
        {
          "output_type": "execute_result",
          "data": {
            "text/plain": [
              "1960.0    1468\n",
              "Name: Date_of_Occupancy, dtype: int64"
            ]
          },
          "metadata": {
            "tags": []
          },
          "execution_count": 19
        }
      ]
    },
    {
      "cell_type": "code",
      "metadata": {
        "id": "2U7mf2XNpoU_",
        "colab_type": "code",
        "colab": {}
      },
      "source": [
        "#filling null values for date_of_Occupancy\n",
        "\n",
        "train[\"Date_of_Occupancy\"].fillna(1960, inplace=True)\n",
        "test[\"Date_of_Occupancy\"].fillna(1960, inplace=True)"
      ],
      "execution_count": 20,
      "outputs": []
    },
    {
      "cell_type": "code",
      "metadata": {
        "id": "jovhYDnVpoVB",
        "colab_type": "code",
        "colab": {
          "base_uri": "https://localhost:8080/",
          "height": 296
        },
        "outputId": "044a5cff-ec23-4ac2-eb8b-68c84f6591f6"
      },
      "source": [
        "#quick check\n",
        "\n",
        "train.isnull().sum()"
      ],
      "execution_count": 21,
      "outputs": [
        {
          "output_type": "execute_result",
          "data": {
            "text/plain": [
              "Customer Id             0\n",
              "YearOfObservation       0\n",
              "Insured_Period          0\n",
              "Residential             0\n",
              "Building_Painted        0\n",
              "Building_Fenced         0\n",
              "Garden                  0\n",
              "Settlement              0\n",
              "Building Dimension      0\n",
              "Building_Type           0\n",
              "Date_of_Occupancy       0\n",
              "NumberOfWindows         0\n",
              "Geo_Code              102\n",
              "Claim                   0\n",
              "dtype: int64"
            ]
          },
          "metadata": {
            "tags": []
          },
          "execution_count": 21
        }
      ]
    },
    {
      "cell_type": "markdown",
      "metadata": {
        "id": "vSvK0y_ipoVD",
        "colab_type": "text"
      },
      "source": [
        "<h4>4. Geo_Code<h4>"
      ]
    },
    {
      "cell_type": "code",
      "metadata": {
        "id": "SyMHeMkLpoVE",
        "colab_type": "code",
        "colab": {
          "base_uri": "https://localhost:8080/",
          "height": 240
        },
        "outputId": "de30d25c-614c-42b2-9ffd-e016cb20bf3a"
      },
      "source": [
        "#only buildings in urban areas have null values\n",
        "#this column would be dropped. I do not think it would impact our model\n",
        "\n",
        "train[train[\"Settlement\"]==\"U\"][\"Geo_Code\"].value_counts()"
      ],
      "execution_count": 22,
      "outputs": [
        {
          "output_type": "execute_result",
          "data": {
            "text/plain": [
              "6088     66\n",
              "21231    63\n",
              "33063    58\n",
              "13206    57\n",
              "6083     56\n",
              "         ..\n",
              "40328     1\n",
              "93015     1\n",
              "59482     1\n",
              "56078     1\n",
              "13007     1\n",
              "Name: Geo_Code, Length: 832, dtype: int64"
            ]
          },
          "metadata": {
            "tags": []
          },
          "execution_count": 22
        }
      ]
    },
    {
      "cell_type": "markdown",
      "metadata": {
        "id": "pBSUhlehm42d",
        "colab_type": "text"
      },
      "source": [
        "***Cleaning of Columns***"
      ]
    },
    {
      "cell_type": "code",
      "metadata": {
        "id": "Vb8i44TgpoVG",
        "colab_type": "code",
        "colab": {}
      },
      "source": [
        "train.drop(\"Geo_Code\",axis=1, inplace=True)\n",
        "test.drop(\"Geo_Code\",axis=1, inplace=True)"
      ],
      "execution_count": 23,
      "outputs": []
    },
    {
      "cell_type": "markdown",
      "metadata": {
        "id": "1fRxRWrepoVI",
        "colab_type": "text"
      },
      "source": [
        "<h5>5. NumberOfWindows<h5>"
      ]
    },
    {
      "cell_type": "code",
      "metadata": {
        "id": "ocxbQXDcpoVJ",
        "colab_type": "code",
        "colab": {
          "base_uri": "https://localhost:8080/",
          "height": 240
        },
        "outputId": "f5bc653d-8f79-4cc1-98f9-eda0dc185f65"
      },
      "source": [
        "#the \".\" here will be treated as null values. And since an overwhelming majority is null, this column will be dropped\n",
        "\n",
        "train[\"NumberOfWindows\"].value_counts()"
      ],
      "execution_count": 24,
      "outputs": [
        {
          "output_type": "execute_result",
          "data": {
            "text/plain": [
              "   .    3551\n",
              "4        939\n",
              "3        844\n",
              "5        639\n",
              "2        363\n",
              "6        306\n",
              "7        211\n",
              "8        116\n",
              "1         75\n",
              ">=10      67\n",
              "9         49\n",
              "Name: NumberOfWindows, dtype: int64"
            ]
          },
          "metadata": {
            "tags": []
          },
          "execution_count": 24
        }
      ]
    },
    {
      "cell_type": "code",
      "metadata": {
        "id": "OUOog_4WpoVL",
        "colab_type": "code",
        "colab": {}
      },
      "source": [
        "train.drop(\"NumberOfWindows\", axis=1, inplace=True)\n",
        "test.drop(\"NumberOfWindows\", axis=1, inplace=True)"
      ],
      "execution_count": 25,
      "outputs": []
    },
    {
      "cell_type": "markdown",
      "metadata": {
        "id": "pvSl5MYMpoVO",
        "colab_type": "text"
      },
      "source": [
        "<h5>6. Date_Of_Occupancy<h5>\n",
        "    \n",
        "    "
      ]
    },
    {
      "cell_type": "markdown",
      "metadata": {
        "id": "-X6S-z9HnL1s",
        "colab_type": "text"
      },
      "source": [
        "*Changing the date of occupancy from a float to integer*"
      ]
    },
    {
      "cell_type": "code",
      "metadata": {
        "id": "1DB43bvOpoVO",
        "colab_type": "code",
        "colab": {
          "base_uri": "https://localhost:8080/",
          "height": 371
        },
        "outputId": "ab14caa4-e8d0-4616-dd93-c6cc6f7d1a36"
      },
      "source": [
        "train.info()"
      ],
      "execution_count": 26,
      "outputs": [
        {
          "output_type": "stream",
          "text": [
            "<class 'pandas.core.frame.DataFrame'>\n",
            "RangeIndex: 7160 entries, 0 to 7159\n",
            "Data columns (total 12 columns):\n",
            " #   Column              Non-Null Count  Dtype  \n",
            "---  ------              --------------  -----  \n",
            " 0   Customer Id         7160 non-null   object \n",
            " 1   YearOfObservation   7160 non-null   int64  \n",
            " 2   Insured_Period      7160 non-null   float64\n",
            " 3   Residential         7160 non-null   int64  \n",
            " 4   Building_Painted    7160 non-null   object \n",
            " 5   Building_Fenced     7160 non-null   object \n",
            " 6   Garden              7160 non-null   object \n",
            " 7   Settlement          7160 non-null   object \n",
            " 8   Building Dimension  7160 non-null   float64\n",
            " 9   Building_Type       7160 non-null   int64  \n",
            " 10  Date_of_Occupancy   7160 non-null   float64\n",
            " 11  Claim               7160 non-null   int64  \n",
            "dtypes: float64(3), int64(4), object(5)\n",
            "memory usage: 671.4+ KB\n"
          ],
          "name": "stdout"
        }
      ]
    },
    {
      "cell_type": "code",
      "metadata": {
        "id": "Anfz3LjEpoVQ",
        "colab_type": "code",
        "colab": {}
      },
      "source": [
        "#a function that splits the column into two by \".\" and then picking the first index\n",
        "\n",
        "def split_(x):\n",
        "    x=str(x).split(\".\")[0]\n",
        "    return int(x)"
      ],
      "execution_count": 27,
      "outputs": []
    },
    {
      "cell_type": "code",
      "metadata": {
        "id": "lyuK3a5UpoVT",
        "colab_type": "code",
        "colab": {
          "base_uri": "https://localhost:8080/",
          "height": 36
        },
        "outputId": "8038fa43-68bf-4666-d7fa-d90f274ac25e"
      },
      "source": [
        "#test of the function\n",
        "\n",
        "split_(1970.0)"
      ],
      "execution_count": 28,
      "outputs": [
        {
          "output_type": "execute_result",
          "data": {
            "text/plain": [
              "1970"
            ]
          },
          "metadata": {
            "tags": []
          },
          "execution_count": 28
        }
      ]
    },
    {
      "cell_type": "code",
      "metadata": {
        "id": "7uJRu1_DpoVV",
        "colab_type": "code",
        "colab": {}
      },
      "source": [
        "#applying the function\n",
        "\n",
        "train[\"Date_of_Occupancy\"] = train[\"Date_of_Occupancy\"].apply(split_)\n",
        "test[\"Date_of_Occupancy\"] = test[\"Date_of_Occupancy\"].apply(split_)"
      ],
      "execution_count": 29,
      "outputs": []
    },
    {
      "cell_type": "code",
      "metadata": {
        "id": "5PL6ir_1poVY",
        "colab_type": "code",
        "colab": {
          "base_uri": "https://localhost:8080/",
          "height": 206
        },
        "outputId": "e734bab7-a912-4225-c67c-54c699818866"
      },
      "source": [
        "#quick check\n",
        "\n",
        "train.head()"
      ],
      "execution_count": 30,
      "outputs": [
        {
          "output_type": "execute_result",
          "data": {
            "text/html": [
              "<div>\n",
              "<style scoped>\n",
              "    .dataframe tbody tr th:only-of-type {\n",
              "        vertical-align: middle;\n",
              "    }\n",
              "\n",
              "    .dataframe tbody tr th {\n",
              "        vertical-align: top;\n",
              "    }\n",
              "\n",
              "    .dataframe thead th {\n",
              "        text-align: right;\n",
              "    }\n",
              "</style>\n",
              "<table border=\"1\" class=\"dataframe\">\n",
              "  <thead>\n",
              "    <tr style=\"text-align: right;\">\n",
              "      <th></th>\n",
              "      <th>Customer Id</th>\n",
              "      <th>YearOfObservation</th>\n",
              "      <th>Insured_Period</th>\n",
              "      <th>Residential</th>\n",
              "      <th>Building_Painted</th>\n",
              "      <th>Building_Fenced</th>\n",
              "      <th>Garden</th>\n",
              "      <th>Settlement</th>\n",
              "      <th>Building Dimension</th>\n",
              "      <th>Building_Type</th>\n",
              "      <th>Date_of_Occupancy</th>\n",
              "      <th>Claim</th>\n",
              "    </tr>\n",
              "  </thead>\n",
              "  <tbody>\n",
              "    <tr>\n",
              "      <th>0</th>\n",
              "      <td>H14663</td>\n",
              "      <td>2013</td>\n",
              "      <td>1.0</td>\n",
              "      <td>0</td>\n",
              "      <td>N</td>\n",
              "      <td>V</td>\n",
              "      <td>V</td>\n",
              "      <td>U</td>\n",
              "      <td>290.0</td>\n",
              "      <td>1</td>\n",
              "      <td>1960</td>\n",
              "      <td>0</td>\n",
              "    </tr>\n",
              "    <tr>\n",
              "      <th>1</th>\n",
              "      <td>H2037</td>\n",
              "      <td>2015</td>\n",
              "      <td>1.0</td>\n",
              "      <td>0</td>\n",
              "      <td>V</td>\n",
              "      <td>N</td>\n",
              "      <td>O</td>\n",
              "      <td>R</td>\n",
              "      <td>490.0</td>\n",
              "      <td>1</td>\n",
              "      <td>1850</td>\n",
              "      <td>0</td>\n",
              "    </tr>\n",
              "    <tr>\n",
              "      <th>2</th>\n",
              "      <td>H3802</td>\n",
              "      <td>2014</td>\n",
              "      <td>1.0</td>\n",
              "      <td>0</td>\n",
              "      <td>N</td>\n",
              "      <td>V</td>\n",
              "      <td>V</td>\n",
              "      <td>U</td>\n",
              "      <td>595.0</td>\n",
              "      <td>1</td>\n",
              "      <td>1960</td>\n",
              "      <td>0</td>\n",
              "    </tr>\n",
              "    <tr>\n",
              "      <th>3</th>\n",
              "      <td>H3834</td>\n",
              "      <td>2013</td>\n",
              "      <td>1.0</td>\n",
              "      <td>0</td>\n",
              "      <td>V</td>\n",
              "      <td>V</td>\n",
              "      <td>V</td>\n",
              "      <td>U</td>\n",
              "      <td>2840.0</td>\n",
              "      <td>1</td>\n",
              "      <td>1960</td>\n",
              "      <td>0</td>\n",
              "    </tr>\n",
              "    <tr>\n",
              "      <th>4</th>\n",
              "      <td>H5053</td>\n",
              "      <td>2014</td>\n",
              "      <td>1.0</td>\n",
              "      <td>0</td>\n",
              "      <td>V</td>\n",
              "      <td>N</td>\n",
              "      <td>O</td>\n",
              "      <td>R</td>\n",
              "      <td>680.0</td>\n",
              "      <td>1</td>\n",
              "      <td>1800</td>\n",
              "      <td>0</td>\n",
              "    </tr>\n",
              "  </tbody>\n",
              "</table>\n",
              "</div>"
            ],
            "text/plain": [
              "  Customer Id  YearOfObservation  ...  Date_of_Occupancy  Claim\n",
              "0      H14663               2013  ...               1960      0\n",
              "1       H2037               2015  ...               1850      0\n",
              "2       H3802               2014  ...               1960      0\n",
              "3       H3834               2013  ...               1960      0\n",
              "4       H5053               2014  ...               1800      0\n",
              "\n",
              "[5 rows x 12 columns]"
            ]
          },
          "metadata": {
            "tags": []
          },
          "execution_count": 30
        }
      ]
    },
    {
      "cell_type": "code",
      "metadata": {
        "id": "oQeGIutZrRk1",
        "colab_type": "code",
        "colab": {}
      },
      "source": [
        ""
      ],
      "execution_count": 30,
      "outputs": []
    },
    {
      "cell_type": "code",
      "metadata": {
        "id": "7Zhdvu-frRrf",
        "colab_type": "code",
        "colab": {}
      },
      "source": [
        "def split_id(q):\n",
        "    q=str(q).split(\"H\")[1]\n",
        "    return int(q)"
      ],
      "execution_count": 31,
      "outputs": []
    },
    {
      "cell_type": "code",
      "metadata": {
        "id": "jWQCutSQCDsb",
        "colab_type": "code",
        "colab": {}
      },
      "source": [
        "#This function splits Insured period in 2 groups; \n",
        "# Over 0.5 will be 1 year policy duration \n",
        "# Less than 0.5 will be no policy duration\n",
        "\n",
        "\n",
        "#def insured(x):\n",
        "\n",
        " # if x < 0.5:\n",
        "  #  return 0\n",
        "  #else:\n",
        "   # return 1"
      ],
      "execution_count": 32,
      "outputs": []
    },
    {
      "cell_type": "code",
      "metadata": {
        "id": "rKaN_6lyCDxx",
        "colab_type": "code",
        "colab": {}
      },
      "source": [
        "#applying the function\n",
        "\n",
        "#train[\"Insured_Period\"] = train[\"Insured_Period\"].apply(insured)\n",
        "#test[\"Insured_Period\"] = test[\"Insured_Period\"].apply(insured)"
      ],
      "execution_count": 33,
      "outputs": []
    },
    {
      "cell_type": "code",
      "metadata": {
        "id": "zaQ7Zdd0CD7Y",
        "colab_type": "code",
        "colab": {
          "base_uri": "https://localhost:8080/",
          "height": 240
        },
        "outputId": "fd4a83c2-60f1-49fe-a604-468e95dccd21"
      },
      "source": [
        "train[\"Insured_Period\"].value_counts()"
      ],
      "execution_count": 34,
      "outputs": [
        {
          "output_type": "execute_result",
          "data": {
            "text/plain": [
              "1.000000    5325\n",
              "0.997268     547\n",
              "0.000000     165\n",
              "0.747945      60\n",
              "0.495890      49\n",
              "            ... \n",
              "0.680328       1\n",
              "0.819672       1\n",
              "0.792350       1\n",
              "0.378082       1\n",
              "0.803279       1\n",
              "Name: Insured_Period, Length: 401, dtype: int64"
            ]
          },
          "metadata": {
            "tags": []
          },
          "execution_count": 34
        }
      ]
    },
    {
      "cell_type": "code",
      "metadata": {
        "id": "EaJS0QM60LMx",
        "colab_type": "code",
        "colab": {
          "base_uri": "https://localhost:8080/",
          "height": 259
        },
        "outputId": "9d80c7bd-0c40-4125-8601-fd683f0eae8d"
      },
      "source": [
        "train.isnull().sum()"
      ],
      "execution_count": 35,
      "outputs": [
        {
          "output_type": "execute_result",
          "data": {
            "text/plain": [
              "Customer Id           0\n",
              "YearOfObservation     0\n",
              "Insured_Period        0\n",
              "Residential           0\n",
              "Building_Painted      0\n",
              "Building_Fenced       0\n",
              "Garden                0\n",
              "Settlement            0\n",
              "Building Dimension    0\n",
              "Building_Type         0\n",
              "Date_of_Occupancy     0\n",
              "Claim                 0\n",
              "dtype: int64"
            ]
          },
          "metadata": {
            "tags": []
          },
          "execution_count": 35
        }
      ]
    },
    {
      "cell_type": "markdown",
      "metadata": {
        "id": "XRFvQGp8t6yQ",
        "colab_type": "text"
      },
      "source": [
        "*Customer Id*"
      ]
    },
    {
      "cell_type": "code",
      "metadata": {
        "id": "Iazyr2lZrRyQ",
        "colab_type": "code",
        "colab": {
          "base_uri": "https://localhost:8080/",
          "height": 36
        },
        "outputId": "62c01179-61b2-425e-c24a-d9b085fd5995"
      },
      "source": [
        "split_id(\"H14663\")"
      ],
      "execution_count": 36,
      "outputs": [
        {
          "output_type": "execute_result",
          "data": {
            "text/plain": [
              "14663"
            ]
          },
          "metadata": {
            "tags": []
          },
          "execution_count": 36
        }
      ]
    },
    {
      "cell_type": "code",
      "metadata": {
        "id": "YGCmRRbQrR5R",
        "colab_type": "code",
        "colab": {}
      },
      "source": [
        "#applying the function to customer id\n",
        "\n",
        "train[\"Customer Id\"] = train[\"Customer Id\"].apply(split_id)\n",
        "test[\"Customer Id\"] = test[\"Customer Id\"].apply(split_id)"
      ],
      "execution_count": 37,
      "outputs": []
    },
    {
      "cell_type": "code",
      "metadata": {
        "id": "dD_ixenlsb52",
        "colab_type": "code",
        "colab": {
          "base_uri": "https://localhost:8080/",
          "height": 206
        },
        "outputId": "4e179b7a-bca2-442f-a5f3-5cad99693fe2"
      },
      "source": [
        "train.head()"
      ],
      "execution_count": 38,
      "outputs": [
        {
          "output_type": "execute_result",
          "data": {
            "text/html": [
              "<div>\n",
              "<style scoped>\n",
              "    .dataframe tbody tr th:only-of-type {\n",
              "        vertical-align: middle;\n",
              "    }\n",
              "\n",
              "    .dataframe tbody tr th {\n",
              "        vertical-align: top;\n",
              "    }\n",
              "\n",
              "    .dataframe thead th {\n",
              "        text-align: right;\n",
              "    }\n",
              "</style>\n",
              "<table border=\"1\" class=\"dataframe\">\n",
              "  <thead>\n",
              "    <tr style=\"text-align: right;\">\n",
              "      <th></th>\n",
              "      <th>Customer Id</th>\n",
              "      <th>YearOfObservation</th>\n",
              "      <th>Insured_Period</th>\n",
              "      <th>Residential</th>\n",
              "      <th>Building_Painted</th>\n",
              "      <th>Building_Fenced</th>\n",
              "      <th>Garden</th>\n",
              "      <th>Settlement</th>\n",
              "      <th>Building Dimension</th>\n",
              "      <th>Building_Type</th>\n",
              "      <th>Date_of_Occupancy</th>\n",
              "      <th>Claim</th>\n",
              "    </tr>\n",
              "  </thead>\n",
              "  <tbody>\n",
              "    <tr>\n",
              "      <th>0</th>\n",
              "      <td>14663</td>\n",
              "      <td>2013</td>\n",
              "      <td>1.0</td>\n",
              "      <td>0</td>\n",
              "      <td>N</td>\n",
              "      <td>V</td>\n",
              "      <td>V</td>\n",
              "      <td>U</td>\n",
              "      <td>290.0</td>\n",
              "      <td>1</td>\n",
              "      <td>1960</td>\n",
              "      <td>0</td>\n",
              "    </tr>\n",
              "    <tr>\n",
              "      <th>1</th>\n",
              "      <td>2037</td>\n",
              "      <td>2015</td>\n",
              "      <td>1.0</td>\n",
              "      <td>0</td>\n",
              "      <td>V</td>\n",
              "      <td>N</td>\n",
              "      <td>O</td>\n",
              "      <td>R</td>\n",
              "      <td>490.0</td>\n",
              "      <td>1</td>\n",
              "      <td>1850</td>\n",
              "      <td>0</td>\n",
              "    </tr>\n",
              "    <tr>\n",
              "      <th>2</th>\n",
              "      <td>3802</td>\n",
              "      <td>2014</td>\n",
              "      <td>1.0</td>\n",
              "      <td>0</td>\n",
              "      <td>N</td>\n",
              "      <td>V</td>\n",
              "      <td>V</td>\n",
              "      <td>U</td>\n",
              "      <td>595.0</td>\n",
              "      <td>1</td>\n",
              "      <td>1960</td>\n",
              "      <td>0</td>\n",
              "    </tr>\n",
              "    <tr>\n",
              "      <th>3</th>\n",
              "      <td>3834</td>\n",
              "      <td>2013</td>\n",
              "      <td>1.0</td>\n",
              "      <td>0</td>\n",
              "      <td>V</td>\n",
              "      <td>V</td>\n",
              "      <td>V</td>\n",
              "      <td>U</td>\n",
              "      <td>2840.0</td>\n",
              "      <td>1</td>\n",
              "      <td>1960</td>\n",
              "      <td>0</td>\n",
              "    </tr>\n",
              "    <tr>\n",
              "      <th>4</th>\n",
              "      <td>5053</td>\n",
              "      <td>2014</td>\n",
              "      <td>1.0</td>\n",
              "      <td>0</td>\n",
              "      <td>V</td>\n",
              "      <td>N</td>\n",
              "      <td>O</td>\n",
              "      <td>R</td>\n",
              "      <td>680.0</td>\n",
              "      <td>1</td>\n",
              "      <td>1800</td>\n",
              "      <td>0</td>\n",
              "    </tr>\n",
              "  </tbody>\n",
              "</table>\n",
              "</div>"
            ],
            "text/plain": [
              "   Customer Id  YearOfObservation  ...  Date_of_Occupancy  Claim\n",
              "0        14663               2013  ...               1960      0\n",
              "1         2037               2015  ...               1850      0\n",
              "2         3802               2014  ...               1960      0\n",
              "3         3834               2013  ...               1960      0\n",
              "4         5053               2014  ...               1800      0\n",
              "\n",
              "[5 rows x 12 columns]"
            ]
          },
          "metadata": {
            "tags": []
          },
          "execution_count": 38
        }
      ]
    },
    {
      "cell_type": "markdown",
      "metadata": {
        "id": "EODULbkdpoVa",
        "colab_type": "text"
      },
      "source": [
        "**<h3>Exploratory Data Analyis (EDA)<h3>**"
      ]
    },
    {
      "cell_type": "markdown",
      "metadata": {
        "id": "WovXd3_-poVb",
        "colab_type": "text"
      },
      "source": [
        "<h6>How many clients have had claims?<h6>"
      ]
    },
    {
      "cell_type": "code",
      "metadata": {
        "id": "frecs_NdpoVb",
        "colab_type": "code",
        "colab": {
          "base_uri": "https://localhost:8080/",
          "height": 369
        },
        "outputId": "7ae6e187-9d28-4e01-f83a-487af0fbc06b"
      },
      "source": [
        "plt.figure(figsize=(8,5))\n",
        "sns.set_style(\"darkgrid\")\n",
        "sns.countplot(x=\"Claim\", data=train)\n",
        "\n",
        "plt.title(\"No of Claims\")"
      ],
      "execution_count": 39,
      "outputs": [
        {
          "output_type": "execute_result",
          "data": {
            "text/plain": [
              "Text(0.5, 1.0, 'No of Claims')"
            ]
          },
          "metadata": {
            "tags": []
          },
          "execution_count": 39
        },
        {
          "output_type": "display_data",
          "data": {
            "image/png": "[encoded data removed]",
            "text/plain": [
              "<Figure size 576x360 with 1 Axes>"
            ]
          },
          "metadata": {
            "tags": [],
            "needs_background": "light"
          }
        }
      ]
    },
    {
      "cell_type": "markdown",
      "metadata": {
        "id": "Zn03ayidpoVe",
        "colab_type": "text"
      },
      "source": [
        "<h6>Distribution of Building Types?<h6>"
      ]
    },
    {
      "cell_type": "code",
      "metadata": {
        "id": "BmROSfiCpoVe",
        "colab_type": "code",
        "colab": {
          "base_uri": "https://localhost:8080/",
          "height": 370
        },
        "outputId": "7a39f3fb-c6c1-4a2e-fde4-27a5a1c8e4e8"
      },
      "source": [
        "plt.figure(figsize=(8,5))\n",
        "\n",
        "sns.set_style(\"darkgrid\")\n",
        "sns.countplot(x=\"Building_Type\",hue=\"Residential\",data=train)\n",
        "\n",
        "plt.title(\"Building Type\")"
      ],
      "execution_count": 40,
      "outputs": [
        {
          "output_type": "execute_result",
          "data": {
            "text/plain": [
              "Text(0.5, 1.0, 'Building Type')"
            ]
          },
          "metadata": {
            "tags": []
          },
          "execution_count": 40
        },
        {
          "output_type": "display_data",
          "data": {
            "image/png": "[encoded data removed]",
            "text/plain": [
              "<Figure size 576x360 with 1 Axes>"
            ]
          },
          "metadata": {
            "tags": []
          }
        }
      ]
    },
    {
      "cell_type": "code",
      "metadata": {
        "id": "r7efcWvMpoVh",
        "colab_type": "code",
        "colab": {}
      },
      "source": [
        ""
      ],
      "execution_count": 40,
      "outputs": []
    },
    {
      "cell_type": "markdown",
      "metadata": {
        "id": "QxUmNGeVra3h",
        "colab_type": "text"
      },
      "source": [
        "More (Residential) buildings in Urban areas?"
      ]
    },
    {
      "cell_type": "code",
      "metadata": {
        "id": "wFxbt-rypoVj",
        "colab_type": "code",
        "colab": {
          "base_uri": "https://localhost:8080/",
          "height": 369
        },
        "outputId": "9f4e026f-fcbc-4f17-9512-8769b10cceab"
      },
      "source": [
        "plt.figure(figsize=(8,5))\n",
        "\n",
        "sns.countplot(x=\"Settlement\",hue=\"Residential\",data=train)\n",
        "\n",
        "plt.title(\"Distribution of Buildings\")"
      ],
      "execution_count": 41,
      "outputs": [
        {
          "output_type": "execute_result",
          "data": {
            "text/plain": [
              "Text(0.5, 1.0, 'Distribution of Buildings')"
            ]
          },
          "metadata": {
            "tags": []
          },
          "execution_count": 41
        },
        {
          "output_type": "display_data",
          "data": {
            "image/png": "[encoded data removed]",
            "text/plain": [
              "<Figure size 576x360 with 1 Axes>"
            ]
          },
          "metadata": {
            "tags": []
          }
        }
      ]
    },
    {
      "cell_type": "markdown",
      "metadata": {
        "id": "Ce98z3ne89Bz",
        "colab_type": "text"
      },
      "source": [
        "*Distribution of Customer by year of occupancy*"
      ]
    },
    {
      "cell_type": "code",
      "metadata": {
        "id": "dikeTcBJpoVl",
        "colab_type": "code",
        "colab": {}
      },
      "source": [
        "year = train.groupby(\"Date_of_Occupancy\")[\"Customer Id\"].count().to_frame().reset_index()"
      ],
      "execution_count": 42,
      "outputs": []
    },
    {
      "cell_type": "code",
      "metadata": {
        "id": "BDtMg4pRpoVn",
        "colab_type": "code",
        "colab": {
          "base_uri": "https://localhost:8080/",
          "height": 206
        },
        "outputId": "57566493-7eb6-4259-b543-9c06259440da"
      },
      "source": [
        "year.head()"
      ],
      "execution_count": 43,
      "outputs": [
        {
          "output_type": "execute_result",
          "data": {
            "text/html": [
              "<div>\n",
              "<style scoped>\n",
              "    .dataframe tbody tr th:only-of-type {\n",
              "        vertical-align: middle;\n",
              "    }\n",
              "\n",
              "    .dataframe tbody tr th {\n",
              "        vertical-align: top;\n",
              "    }\n",
              "\n",
              "    .dataframe thead th {\n",
              "        text-align: right;\n",
              "    }\n",
              "</style>\n",
              "<table border=\"1\" class=\"dataframe\">\n",
              "  <thead>\n",
              "    <tr style=\"text-align: right;\">\n",
              "      <th></th>\n",
              "      <th>Date_of_Occupancy</th>\n",
              "      <th>Customer Id</th>\n",
              "    </tr>\n",
              "  </thead>\n",
              "  <tbody>\n",
              "    <tr>\n",
              "      <th>0</th>\n",
              "      <td>1545</td>\n",
              "      <td>1</td>\n",
              "    </tr>\n",
              "    <tr>\n",
              "      <th>1</th>\n",
              "      <td>1550</td>\n",
              "      <td>1</td>\n",
              "    </tr>\n",
              "    <tr>\n",
              "      <th>2</th>\n",
              "      <td>1600</td>\n",
              "      <td>5</td>\n",
              "    </tr>\n",
              "    <tr>\n",
              "      <th>3</th>\n",
              "      <td>1613</td>\n",
              "      <td>1</td>\n",
              "    </tr>\n",
              "    <tr>\n",
              "      <th>4</th>\n",
              "      <td>1700</td>\n",
              "      <td>10</td>\n",
              "    </tr>\n",
              "  </tbody>\n",
              "</table>\n",
              "</div>"
            ],
            "text/plain": [
              "   Date_of_Occupancy  Customer Id\n",
              "0               1545            1\n",
              "1               1550            1\n",
              "2               1600            5\n",
              "3               1613            1\n",
              "4               1700           10"
            ]
          },
          "metadata": {
            "tags": []
          },
          "execution_count": 43
        }
      ]
    },
    {
      "cell_type": "code",
      "metadata": {
        "id": "z2QOuybBOfU7",
        "colab_type": "code",
        "colab": {
          "base_uri": "https://localhost:8080/",
          "height": 408
        },
        "outputId": "747af8ab-797c-4f58-bd7b-fd10f248c176"
      },
      "source": [
        "plt.figure(figsize=(12,6))\n",
        "\n",
        "sns.lineplot(x=\"Date_of_Occupancy\", y=train.index, data=train, err_style=None)"
      ],
      "execution_count": 44,
      "outputs": [
        {
          "output_type": "execute_result",
          "data": {
            "text/plain": [
              "<matplotlib.axes._subplots.AxesSubplot at 0x7f1d6a1b56d8>"
            ]
          },
          "metadata": {
            "tags": []
          },
          "execution_count": 44
        },
        {
          "output_type": "display_data",
          "data": {
            "image/png": "[encoded data removed]",
            "text/plain": [
              "<Figure size 864x432 with 1 Axes>"
            ]
          },
          "metadata": {
            "tags": []
          }
        }
      ]
    },
    {
      "cell_type": "code",
      "metadata": {
        "id": "7IshIo8ZOyj4",
        "colab_type": "code",
        "colab": {
          "base_uri": "https://localhost:8080/",
          "height": 36
        },
        "outputId": "ded584d7-5a7f-4147-b4b8-d07083217985"
      },
      "source": [
        "len(train[\"Insured_Period\"].value_counts())"
      ],
      "execution_count": 50,
      "outputs": [
        {
          "output_type": "execute_result",
          "data": {
            "text/plain": [
              "401"
            ]
          },
          "metadata": {
            "tags": []
          },
          "execution_count": 50
        }
      ]
    },
    {
      "cell_type": "code",
      "metadata": {
        "id": "asRLduXCSRFE",
        "colab_type": "code",
        "colab": {}
      },
      "source": [
        "wow=year.drop(\"Customer Id\", axis=1)"
      ],
      "execution_count": 46,
      "outputs": []
    },
    {
      "cell_type": "markdown",
      "metadata": {
        "id": "Hq1N1i-eNMGU",
        "colab_type": "text"
      },
      "source": [
        "Year of Policy Observation"
      ]
    },
    {
      "cell_type": "code",
      "metadata": {
        "id": "mBz1k9DLJyIZ",
        "colab_type": "code",
        "colab": {}
      },
      "source": [
        "observaton = train[\"YearOfObservation\"].value_counts().to_frame().reset_index()"
      ],
      "execution_count": 153,
      "outputs": []
    },
    {
      "cell_type": "code",
      "metadata": {
        "id": "ulC_yEIaK-iM",
        "colab_type": "code",
        "colab": {
          "base_uri": "https://localhost:8080/",
          "height": 369
        },
        "outputId": "4d03f6d7-6044-4e68-d59e-4ca710f8e0db"
      },
      "source": [
        "plt.figure(figsize=(8,5))\n",
        "\n",
        "fig = sns.barplot(x=\"index\",y=\"YearOfObservation\",data=observaton,color=\"#437CB6\")\n",
        "\n",
        "plt.title(\"Year of Observation\")\n",
        "\n",
        "fig.set_xlabel(\"Year\")\n",
        "fig.set_ylabel(\"No of Policy\")"
      ],
      "execution_count": 154,
      "outputs": [
        {
          "output_type": "execute_result",
          "data": {
            "text/plain": [
              "Text(0, 0.5, 'No of Policy')"
            ]
          },
          "metadata": {
            "tags": []
          },
          "execution_count": 154
        },
        {
          "output_type": "display_data",
          "data": {
            "image/png": "[encoded data removed]",
            "text/plain": [
              "<Figure size 576x360 with 1 Axes>"
            ]
          },
          "metadata": {
            "tags": []
          }
        }
      ]
    },
    {
      "cell_type": "markdown",
      "metadata": {
        "id": "HlDe4vHlzpHd",
        "colab_type": "text"
      },
      "source": [
        "*Building Dimensions*"
      ]
    },
    {
      "cell_type": "code",
      "metadata": {
        "id": "vFNOhg_eZXiX",
        "colab_type": "code",
        "colab": {
          "base_uri": "https://localhost:8080/",
          "height": 206
        },
        "outputId": "96d8444f-c613-4aba-84c7-f8369b2d9419"
      },
      "source": [
        "train.head"
      ],
      "execution_count": 97,
      "outputs": [
        {
          "output_type": "execute_result",
          "data": {
            "text/html": [
              "<div>\n",
              "<style scoped>\n",
              "    .dataframe tbody tr th:only-of-type {\n",
              "        vertical-align: middle;\n",
              "    }\n",
              "\n",
              "    .dataframe tbody tr th {\n",
              "        vertical-align: top;\n",
              "    }\n",
              "\n",
              "    .dataframe thead th {\n",
              "        text-align: right;\n",
              "    }\n",
              "</style>\n",
              "<table border=\"1\" class=\"dataframe\">\n",
              "  <thead>\n",
              "    <tr style=\"text-align: right;\">\n",
              "      <th></th>\n",
              "      <th>Customer Id</th>\n",
              "      <th>YearOfObservation</th>\n",
              "      <th>Insured_Period</th>\n",
              "      <th>Residential</th>\n",
              "      <th>Building_Painted</th>\n",
              "      <th>Building_Fenced</th>\n",
              "      <th>Garden</th>\n",
              "      <th>Settlement</th>\n",
              "      <th>Building Dimension</th>\n",
              "      <th>Building_Type</th>\n",
              "      <th>Date_of_Occupancy</th>\n",
              "      <th>Claim</th>\n",
              "    </tr>\n",
              "  </thead>\n",
              "  <tbody>\n",
              "    <tr>\n",
              "      <th>0</th>\n",
              "      <td>14663</td>\n",
              "      <td>2013</td>\n",
              "      <td>1.0</td>\n",
              "      <td>0</td>\n",
              "      <td>N</td>\n",
              "      <td>V</td>\n",
              "      <td>V</td>\n",
              "      <td>U</td>\n",
              "      <td>290.0</td>\n",
              "      <td>1</td>\n",
              "      <td>1960</td>\n",
              "      <td>0</td>\n",
              "    </tr>\n",
              "    <tr>\n",
              "      <th>1</th>\n",
              "      <td>2037</td>\n",
              "      <td>2015</td>\n",
              "      <td>1.0</td>\n",
              "      <td>0</td>\n",
              "      <td>V</td>\n",
              "      <td>N</td>\n",
              "      <td>O</td>\n",
              "      <td>R</td>\n",
              "      <td>490.0</td>\n",
              "      <td>1</td>\n",
              "      <td>1850</td>\n",
              "      <td>0</td>\n",
              "    </tr>\n",
              "    <tr>\n",
              "      <th>2</th>\n",
              "      <td>3802</td>\n",
              "      <td>2014</td>\n",
              "      <td>1.0</td>\n",
              "      <td>0</td>\n",
              "      <td>N</td>\n",
              "      <td>V</td>\n",
              "      <td>V</td>\n",
              "      <td>U</td>\n",
              "      <td>595.0</td>\n",
              "      <td>1</td>\n",
              "      <td>1960</td>\n",
              "      <td>0</td>\n",
              "    </tr>\n",
              "    <tr>\n",
              "      <th>3</th>\n",
              "      <td>3834</td>\n",
              "      <td>2013</td>\n",
              "      <td>1.0</td>\n",
              "      <td>0</td>\n",
              "      <td>V</td>\n",
              "      <td>V</td>\n",
              "      <td>V</td>\n",
              "      <td>U</td>\n",
              "      <td>2840.0</td>\n",
              "      <td>1</td>\n",
              "      <td>1960</td>\n",
              "      <td>0</td>\n",
              "    </tr>\n",
              "    <tr>\n",
              "      <th>4</th>\n",
              "      <td>5053</td>\n",
              "      <td>2014</td>\n",
              "      <td>1.0</td>\n",
              "      <td>0</td>\n",
              "      <td>V</td>\n",
              "      <td>N</td>\n",
              "      <td>O</td>\n",
              "      <td>R</td>\n",
              "      <td>680.0</td>\n",
              "      <td>1</td>\n",
              "      <td>1800</td>\n",
              "      <td>0</td>\n",
              "    </tr>\n",
              "  </tbody>\n",
              "</table>\n",
              "</div>"
            ],
            "text/plain": [
              "   Customer Id  YearOfObservation  ...  Date_of_Occupancy  Claim\n",
              "0        14663               2013  ...               1960      0\n",
              "1         2037               2015  ...               1850      0\n",
              "2         3802               2014  ...               1960      0\n",
              "3         3834               2013  ...               1960      0\n",
              "4         5053               2014  ...               1800      0\n",
              "\n",
              "[5 rows x 12 columns]"
            ]
          },
          "metadata": {
            "tags": []
          },
          "execution_count": 97
        }
      ]
    },
    {
      "cell_type": "code",
      "metadata": {
        "id": "4SoqfbSnZaBG",
        "colab_type": "code",
        "colab": {
          "base_uri": "https://localhost:8080/",
          "height": 206
        },
        "outputId": "943fb621-4826-444c-ae17-bc621e99ff19"
      },
      "source": [
        "#creating a new variable to plot building dimensions\n",
        "\n",
        "residential=train[train[\"Residential\"]==1][\"Building Dimension\"].to_frame()\n",
        "non_residential=train[train[\"Residential\"]==0][\"Building Dimension\"].to_frame()\n",
        "residential.head()"
      ],
      "execution_count": 169,
      "outputs": [
        {
          "output_type": "execute_result",
          "data": {
            "text/html": [
              "<div>\n",
              "<style scoped>\n",
              "    .dataframe tbody tr th:only-of-type {\n",
              "        vertical-align: middle;\n",
              "    }\n",
              "\n",
              "    .dataframe tbody tr th {\n",
              "        vertical-align: top;\n",
              "    }\n",
              "\n",
              "    .dataframe thead th {\n",
              "        text-align: right;\n",
              "    }\n",
              "</style>\n",
              "<table border=\"1\" class=\"dataframe\">\n",
              "  <thead>\n",
              "    <tr style=\"text-align: right;\">\n",
              "      <th></th>\n",
              "      <th>Building Dimension</th>\n",
              "    </tr>\n",
              "  </thead>\n",
              "  <tbody>\n",
              "    <tr>\n",
              "      <th>23</th>\n",
              "      <td>2300.0</td>\n",
              "    </tr>\n",
              "    <tr>\n",
              "      <th>33</th>\n",
              "      <td>1000.0</td>\n",
              "    </tr>\n",
              "    <tr>\n",
              "      <th>44</th>\n",
              "      <td>487.0</td>\n",
              "    </tr>\n",
              "    <tr>\n",
              "      <th>47</th>\n",
              "      <td>650.0</td>\n",
              "    </tr>\n",
              "    <tr>\n",
              "      <th>48</th>\n",
              "      <td>650.0</td>\n",
              "    </tr>\n",
              "  </tbody>\n",
              "</table>\n",
              "</div>"
            ],
            "text/plain": [
              "    Building Dimension\n",
              "23              2300.0\n",
              "33              1000.0\n",
              "44               487.0\n",
              "47               650.0\n",
              "48               650.0"
            ]
          },
          "metadata": {
            "tags": []
          },
          "execution_count": 169
        }
      ]
    },
    {
      "cell_type": "code",
      "metadata": {
        "id": "WWRY6XCKK-nt",
        "colab_type": "code",
        "colab": {}
      },
      "source": [
        "#plt.figure(figsize=(8,5))\n",
        "\n",
        "#ax = sns.distplot(residential[\"Building Dimension\"], kde=False, hist_kws={\"range\":[0,20000]})\n",
        "#ax.set_xlim(0,20000)\n",
        "#plt.title(\"Residential Building Dimension\")"
      ],
      "execution_count": 170,
      "outputs": []
    },
    {
      "cell_type": "code",
      "metadata": {
        "id": "eS3JTsRNfWCt",
        "colab_type": "code",
        "colab": {}
      },
      "source": [
        "##plt.figure(figsize=(8,5))\n",
        "\n",
        "##ax = sns.distplot(non_residential[\"Building Dimension\"], kde=False, hist_kws={\"range\":[0,20000]})\n",
        "#ax.set_xlim(0,20000)\n",
        "#plt.title(\"Non-Residential Building Dimension\")"
      ],
      "execution_count": 171,
      "outputs": []
    },
    {
      "cell_type": "code",
      "metadata": {
        "id": "95_zMOn6K-0Y",
        "colab_type": "code",
        "colab": {
          "base_uri": "https://localhost:8080/",
          "height": 573
        },
        "outputId": "f04eadaf-a83d-4788-b7b0-80e5877c8232"
      },
      "source": [
        "##f,  ((ax1, ax2)) = plt.subplots(nrows=1,ncols=2, figsize=(8,5))\n",
        "#f.tight_layout()\n",
        "#f.subplots_adjust(wspace=0.2, hspace=0.5)\n",
        "f, axes = plt.subplots(1,2, figsize=(25,8))\n",
        "\n",
        "\n",
        "\n",
        "ax=sns.distplot(non_residential[\"Building Dimension\"], kde=False, hist_kws={\"range\":[0,20000]}, ax=axes[0])\n",
        "ax1=sns.distplot(residential[\"Building Dimension\"], kde=False, hist_kws={\"range\":[0,20000]}, ax=axes[1])\n",
        "\n",
        "ax.set_xlim(0,20000)\n",
        "ax1.set_xlim(0,20000)\n",
        "\n",
        "ax.title.set_text(\"Non-Residential\")\n",
        "ax1.title.set_text(\"Residential\")\n",
        "plt.suptitle(\"Distribution of Building Dimension\", fontsize=14)\n"
      ],
      "execution_count": 177,
      "outputs": [
        {
          "output_type": "execute_result",
          "data": {
            "text/plain": [
              "Text(0.5, 0.98, 'Distribution of Building Dimension')"
            ]
          },
          "metadata": {
            "tags": []
          },
          "execution_count": 177
        },
        {
          "output_type": "display_data",
          "data": {
            "image/png": "[encoded data removed]",
            "text/plain": [
              "<Figure size 1800x576 with 2 Axes>"
            ]
          },
          "metadata": {
            "tags": []
          }
        }
      ]
    },
    {
      "cell_type": "code",
      "metadata": {
        "id": "5yea8AIrK-x5",
        "colab_type": "code",
        "colab": {
          "base_uri": "https://localhost:8080/",
          "height": 206
        },
        "outputId": "08e60337-ac94-45e9-efb1-5422f73b1846"
      },
      "source": [
        "policy=train[[\"YearOfObservation\",\"Insured_Period\"]]\n",
        "policy.head()"
      ],
      "execution_count": 173,
      "outputs": [
        {
          "output_type": "execute_result",
          "data": {
            "text/html": [
              "<div>\n",
              "<style scoped>\n",
              "    .dataframe tbody tr th:only-of-type {\n",
              "        vertical-align: middle;\n",
              "    }\n",
              "\n",
              "    .dataframe tbody tr th {\n",
              "        vertical-align: top;\n",
              "    }\n",
              "\n",
              "    .dataframe thead th {\n",
              "        text-align: right;\n",
              "    }\n",
              "</style>\n",
              "<table border=\"1\" class=\"dataframe\">\n",
              "  <thead>\n",
              "    <tr style=\"text-align: right;\">\n",
              "      <th></th>\n",
              "      <th>YearOfObservation</th>\n",
              "      <th>Insured_Period</th>\n",
              "    </tr>\n",
              "  </thead>\n",
              "  <tbody>\n",
              "    <tr>\n",
              "      <th>0</th>\n",
              "      <td>2013</td>\n",
              "      <td>1.0</td>\n",
              "    </tr>\n",
              "    <tr>\n",
              "      <th>1</th>\n",
              "      <td>2015</td>\n",
              "      <td>1.0</td>\n",
              "    </tr>\n",
              "    <tr>\n",
              "      <th>2</th>\n",
              "      <td>2014</td>\n",
              "      <td>1.0</td>\n",
              "    </tr>\n",
              "    <tr>\n",
              "      <th>3</th>\n",
              "      <td>2013</td>\n",
              "      <td>1.0</td>\n",
              "    </tr>\n",
              "    <tr>\n",
              "      <th>4</th>\n",
              "      <td>2014</td>\n",
              "      <td>1.0</td>\n",
              "    </tr>\n",
              "  </tbody>\n",
              "</table>\n",
              "</div>"
            ],
            "text/plain": [
              "   YearOfObservation  Insured_Period\n",
              "0               2013             1.0\n",
              "1               2015             1.0\n",
              "2               2014             1.0\n",
              "3               2013             1.0\n",
              "4               2014             1.0"
            ]
          },
          "metadata": {
            "tags": []
          },
          "execution_count": 173
        }
      ]
    },
    {
      "cell_type": "code",
      "metadata": {
        "id": "5y_sxh69qo4e",
        "colab_type": "code",
        "colab": {
          "base_uri": "https://localhost:8080/",
          "height": 206
        },
        "outputId": "b87c0c50-f7c8-4894-afd3-0a077168641c"
      },
      "source": [
        "policy2=train[\"Insured_Period\"].value_counts().to_frame().reset_index()\n",
        "policy2.head()"
      ],
      "execution_count": 125,
      "outputs": [
        {
          "output_type": "execute_result",
          "data": {
            "text/html": [
              "<div>\n",
              "<style scoped>\n",
              "    .dataframe tbody tr th:only-of-type {\n",
              "        vertical-align: middle;\n",
              "    }\n",
              "\n",
              "    .dataframe tbody tr th {\n",
              "        vertical-align: top;\n",
              "    }\n",
              "\n",
              "    .dataframe thead th {\n",
              "        text-align: right;\n",
              "    }\n",
              "</style>\n",
              "<table border=\"1\" class=\"dataframe\">\n",
              "  <thead>\n",
              "    <tr style=\"text-align: right;\">\n",
              "      <th></th>\n",
              "      <th>index</th>\n",
              "      <th>Insured_Period</th>\n",
              "    </tr>\n",
              "  </thead>\n",
              "  <tbody>\n",
              "    <tr>\n",
              "      <th>0</th>\n",
              "      <td>1.000000</td>\n",
              "      <td>5325</td>\n",
              "    </tr>\n",
              "    <tr>\n",
              "      <th>1</th>\n",
              "      <td>0.997268</td>\n",
              "      <td>547</td>\n",
              "    </tr>\n",
              "    <tr>\n",
              "      <th>2</th>\n",
              "      <td>0.000000</td>\n",
              "      <td>165</td>\n",
              "    </tr>\n",
              "    <tr>\n",
              "      <th>3</th>\n",
              "      <td>0.747945</td>\n",
              "      <td>60</td>\n",
              "    </tr>\n",
              "    <tr>\n",
              "      <th>4</th>\n",
              "      <td>0.495890</td>\n",
              "      <td>49</td>\n",
              "    </tr>\n",
              "  </tbody>\n",
              "</table>\n",
              "</div>"
            ],
            "text/plain": [
              "      index  Insured_Period\n",
              "0  1.000000            5325\n",
              "1  0.997268             547\n",
              "2  0.000000             165\n",
              "3  0.747945              60\n",
              "4  0.495890              49"
            ]
          },
          "metadata": {
            "tags": []
          },
          "execution_count": 125
        }
      ]
    },
    {
      "cell_type": "code",
      "metadata": {
        "id": "GcCc_s5DQHZ-",
        "colab_type": "code",
        "colab": {}
      },
      "source": [
        "#def pol(x):\n",
        "\n",
        "    \n",
        "  #if x <25:\n",
        "   # return \"Others\"\n",
        " # elif x>=25:\n",
        "  #  return x\n"
      ],
      "execution_count": 155,
      "outputs": []
    },
    {
      "cell_type": "markdown",
      "metadata": {
        "id": "HfEfz5VgzubW",
        "colab_type": "text"
      },
      "source": [
        "*Date of Occupancy*"
      ]
    },
    {
      "cell_type": "code",
      "metadata": {
        "id": "Pxd2JJhLQHh0",
        "colab_type": "code",
        "colab": {
          "base_uri": "https://localhost:8080/",
          "height": 424
        },
        "outputId": "dbfab635-bf5e-4790-d35d-c7ffda7cd7e5"
      },
      "source": [
        "plt.figure(figsize=(10,6))\n",
        "\n",
        "ax=sns.distplot(train[\"Date_of_Occupancy\"],kde=False,hist_kws={\"range\":[1800,2000]}, bins=40)\n",
        "\n",
        "ax.set_xlim(1800,2000)\n",
        "\n",
        "plt.title(\"Date of Occupancy\")"
      ],
      "execution_count": 167,
      "outputs": [
        {
          "output_type": "execute_result",
          "data": {
            "text/plain": [
              "Text(0.5, 1.0, 'Date of Occupancy')"
            ]
          },
          "metadata": {
            "tags": []
          },
          "execution_count": 167
        },
        {
          "output_type": "display_data",
          "data": {
            "image/png": "[encoded data removed]",
            "text/plain": [
              "<Figure size 720x432 with 1 Axes>"
            ]
          },
          "metadata": {
            "tags": []
          }
        }
      ]
    },
    {
      "cell_type": "markdown",
      "metadata": {
        "id": "apNVAIH19Pw4",
        "colab_type": "text"
      },
      "source": [
        "**Features of those who claimed**"
      ]
    },
    {
      "cell_type": "code",
      "metadata": {
        "id": "eaYdhGhApoV0",
        "colab_type": "code",
        "colab": {
          "base_uri": "https://localhost:8080/",
          "height": 206
        },
        "outputId": "e6fb4785-783f-4428-d631-b2f4a732db8c"
      },
      "source": [
        "claim = train[train[\"Claim\"]==1]\n",
        "claim.head()"
      ],
      "execution_count": 125,
      "outputs": [
        {
          "output_type": "execute_result",
          "data": {
            "text/html": [
              "<div>\n",
              "<style scoped>\n",
              "    .dataframe tbody tr th:only-of-type {\n",
              "        vertical-align: middle;\n",
              "    }\n",
              "\n",
              "    .dataframe tbody tr th {\n",
              "        vertical-align: top;\n",
              "    }\n",
              "\n",
              "    .dataframe thead th {\n",
              "        text-align: right;\n",
              "    }\n",
              "</style>\n",
              "<table border=\"1\" class=\"dataframe\">\n",
              "  <thead>\n",
              "    <tr style=\"text-align: right;\">\n",
              "      <th></th>\n",
              "      <th>Customer Id</th>\n",
              "      <th>YearOfObservation</th>\n",
              "      <th>Insured_Period</th>\n",
              "      <th>Residential</th>\n",
              "      <th>Building_Painted</th>\n",
              "      <th>Building_Fenced</th>\n",
              "      <th>Garden</th>\n",
              "      <th>Settlement</th>\n",
              "      <th>Building Dimension</th>\n",
              "      <th>Building_Type</th>\n",
              "      <th>Date_of_Occupancy</th>\n",
              "      <th>Claim</th>\n",
              "    </tr>\n",
              "  </thead>\n",
              "  <tbody>\n",
              "    <tr>\n",
              "      <th>8</th>\n",
              "      <td>19355</td>\n",
              "      <td>2014</td>\n",
              "      <td>1.0</td>\n",
              "      <td>0</td>\n",
              "      <td>V</td>\n",
              "      <td>N</td>\n",
              "      <td>O</td>\n",
              "      <td>R</td>\n",
              "      <td>2735.0</td>\n",
              "      <td>1</td>\n",
              "      <td>2013</td>\n",
              "      <td>1</td>\n",
              "    </tr>\n",
              "    <tr>\n",
              "      <th>15</th>\n",
              "      <td>13053</td>\n",
              "      <td>2012</td>\n",
              "      <td>1.0</td>\n",
              "      <td>0</td>\n",
              "      <td>V</td>\n",
              "      <td>N</td>\n",
              "      <td>O</td>\n",
              "      <td>R</td>\n",
              "      <td>3326.0</td>\n",
              "      <td>1</td>\n",
              "      <td>2007</td>\n",
              "      <td>1</td>\n",
              "    </tr>\n",
              "    <tr>\n",
              "      <th>16</th>\n",
              "      <td>14330</td>\n",
              "      <td>2014</td>\n",
              "      <td>1.0</td>\n",
              "      <td>0</td>\n",
              "      <td>N</td>\n",
              "      <td>V</td>\n",
              "      <td>V</td>\n",
              "      <td>U</td>\n",
              "      <td>3990.0</td>\n",
              "      <td>1</td>\n",
              "      <td>1988</td>\n",
              "      <td>1</td>\n",
              "    </tr>\n",
              "    <tr>\n",
              "      <th>23</th>\n",
              "      <td>4421</td>\n",
              "      <td>2012</td>\n",
              "      <td>1.0</td>\n",
              "      <td>1</td>\n",
              "      <td>V</td>\n",
              "      <td>N</td>\n",
              "      <td>O</td>\n",
              "      <td>R</td>\n",
              "      <td>2300.0</td>\n",
              "      <td>1</td>\n",
              "      <td>1970</td>\n",
              "      <td>1</td>\n",
              "    </tr>\n",
              "    <tr>\n",
              "      <th>26</th>\n",
              "      <td>15579</td>\n",
              "      <td>2014</td>\n",
              "      <td>1.0</td>\n",
              "      <td>0</td>\n",
              "      <td>V</td>\n",
              "      <td>N</td>\n",
              "      <td>O</td>\n",
              "      <td>R</td>\n",
              "      <td>5439.0</td>\n",
              "      <td>1</td>\n",
              "      <td>1976</td>\n",
              "      <td>1</td>\n",
              "    </tr>\n",
              "  </tbody>\n",
              "</table>\n",
              "</div>"
            ],
            "text/plain": [
              "    Customer Id  YearOfObservation  ...  Date_of_Occupancy  Claim\n",
              "8         19355               2014  ...               2013      1\n",
              "15        13053               2012  ...               2007      1\n",
              "16        14330               2014  ...               1988      1\n",
              "23         4421               2012  ...               1970      1\n",
              "26        15579               2014  ...               1976      1\n",
              "\n",
              "[5 rows x 12 columns]"
            ]
          },
          "metadata": {
            "tags": []
          },
          "execution_count": 125
        }
      ]
    },
    {
      "cell_type": "code",
      "metadata": {
        "id": "Xcd1CoIvpoV4",
        "colab_type": "code",
        "colab": {
          "base_uri": "https://localhost:8080/",
          "height": 631
        },
        "outputId": "ba1e5b99-23d2-44e7-f1d5-7eba8c714bc3"
      },
      "source": [
        "f,  ((ax1, ax2), (ax3, ax4)) = plt.subplots(nrows=2,ncols=2, figsize=(12,8))\n",
        "f.tight_layout()\n",
        "f.subplots_adjust(wspace=0.2, hspace=0.5)\n",
        "\n",
        "\n",
        "\n",
        "\n",
        "\n",
        "sns.countplot(x=\"Building_Type\",ax=ax1, data=claim)\n",
        "sns.countplot(x=\"Residential\",ax=ax2, data=claim)\n",
        "sns.countplot(x=\"Settlement\",ax=ax3, data=claim)\n",
        "sns.countplot(x=\"Building_Fenced\",ax=ax4, data=claim)\n",
        "\n",
        "ax1.set_title(\"Building Type\")\n",
        "ax2.set_title(\"Residential or Others\")\n",
        "ax3.set_title(\"Settlement Area\")\n",
        "ax4.set_title(\"Fenced Buildings\")\n",
        "\n"
      ],
      "execution_count": 126,
      "outputs": [
        {
          "output_type": "execute_result",
          "data": {
            "text/plain": [
              "Text(0.5, 1.0, 'Fenced Buildings')"
            ]
          },
          "metadata": {
            "tags": []
          },
          "execution_count": 126
        },
        {
          "output_type": "display_data",
          "data": {
            "image/png": "[encoded data removed]",
            "text/plain": [
              "<Figure size 864x576 with 4 Axes>"
            ]
          },
          "metadata": {
            "tags": []
          }
        }
      ]
    },
    {
      "cell_type": "code",
      "metadata": {
        "id": "YXjlx51x9XAt",
        "colab_type": "code",
        "colab": {}
      },
      "source": [
        "year_claim=claim.groupby(\"Date_of_Occupancy\")[\"Claim\"].count().to_frame().reset_index()\n",
        "year_claim.head()"
      ],
      "execution_count": null,
      "outputs": []
    },
    {
      "cell_type": "code",
      "metadata": {
        "id": "ZGOTtxIcaqSH",
        "colab_type": "code",
        "colab": {}
      },
      "source": [
        "plt.figure(figsize=(12,6))\n",
        "\n",
        "sns.distplot(year_claim[\"Date_of_Occupancy\"])\n",
        "\n",
        "plt.title(\"Year of Occupancy\")"
      ],
      "execution_count": null,
      "outputs": []
    },
    {
      "cell_type": "code",
      "metadata": {
        "id": "dlpFCtuGbXBo",
        "colab_type": "code",
        "colab": {}
      },
      "source": [
        "period = claim.groupby(\"Insured_Period\")[\"Claim\"].sum().to_frame().reset_index()\n",
        "period.head()"
      ],
      "execution_count": null,
      "outputs": []
    },
    {
      "cell_type": "code",
      "metadata": {
        "id": "TJqR7bzGBDxW",
        "colab_type": "code",
        "colab": {}
      },
      "source": [
        "train.head()"
      ],
      "execution_count": null,
      "outputs": []
    },
    {
      "cell_type": "code",
      "metadata": {
        "id": "vFy1zxAfee4j",
        "colab_type": "code",
        "colab": {}
      },
      "source": [
        "plt.figure(figsize=(12,6))\n",
        "\n",
        "train[\"Insured_Period\"].value_counts()"
      ],
      "execution_count": null,
      "outputs": []
    },
    {
      "cell_type": "code",
      "metadata": {
        "id": "GXCxlYPTF0-K",
        "colab_type": "code",
        "colab": {}
      },
      "source": [
        "f,  ((ax1, ax2)) = plt.subplots(nrows=1,ncols=2, figsize=(10,5))\n",
        "f.tight_layout()\n",
        "f.subplots_adjust(wspace=0.2, hspace=0.5)\n",
        "\n",
        "\n",
        "\n",
        "\n",
        "\n",
        "sns.countplot(x=\"Garden\",ax=ax1, data=claim)\n",
        "sns.countplot(x=\"Building_Painted\",ax=ax2, data=claim)"
      ],
      "execution_count": null,
      "outputs": []
    },
    {
      "cell_type": "code",
      "metadata": {
        "id": "X5zc9oBqYDG-",
        "colab_type": "code",
        "colab": {}
      },
      "source": [
        ""
      ],
      "execution_count": null,
      "outputs": []
    },
    {
      "cell_type": "code",
      "metadata": {
        "id": "mLZfh0bkYDOP",
        "colab_type": "code",
        "colab": {}
      },
      "source": [
        ""
      ],
      "execution_count": null,
      "outputs": []
    },
    {
      "cell_type": "code",
      "metadata": {
        "id": "NZASoSfaYDMu",
        "colab_type": "code",
        "colab": {}
      },
      "source": [
        ""
      ],
      "execution_count": null,
      "outputs": []
    },
    {
      "cell_type": "code",
      "metadata": {
        "id": "uPLpUyK0YC_I",
        "colab_type": "code",
        "colab": {}
      },
      "source": [
        ""
      ],
      "execution_count": null,
      "outputs": []
    },
    {
      "cell_type": "markdown",
      "metadata": {
        "id": "g37gZpOqUA81",
        "colab_type": "text"
      },
      "source": [
        "**Features of those yet to make a claim**"
      ]
    },
    {
      "cell_type": "code",
      "metadata": {
        "id": "SERoi9UbUKG3",
        "colab_type": "code",
        "colab": {
          "base_uri": "https://localhost:8080/",
          "height": 206
        },
        "outputId": "c143ce99-0ca6-40a7-fc70-54561df8b2ac"
      },
      "source": [
        "no_claim = train[train[\"Claim\"]==0]\n",
        "no_claim.head()"
      ],
      "execution_count": 122,
      "outputs": [
        {
          "output_type": "execute_result",
          "data": {
            "text/html": [
              "<div>\n",
              "<style scoped>\n",
              "    .dataframe tbody tr th:only-of-type {\n",
              "        vertical-align: middle;\n",
              "    }\n",
              "\n",
              "    .dataframe tbody tr th {\n",
              "        vertical-align: top;\n",
              "    }\n",
              "\n",
              "    .dataframe thead th {\n",
              "        text-align: right;\n",
              "    }\n",
              "</style>\n",
              "<table border=\"1\" class=\"dataframe\">\n",
              "  <thead>\n",
              "    <tr style=\"text-align: right;\">\n",
              "      <th></th>\n",
              "      <th>Customer Id</th>\n",
              "      <th>YearOfObservation</th>\n",
              "      <th>Insured_Period</th>\n",
              "      <th>Residential</th>\n",
              "      <th>Building_Painted</th>\n",
              "      <th>Building_Fenced</th>\n",
              "      <th>Garden</th>\n",
              "      <th>Settlement</th>\n",
              "      <th>Building Dimension</th>\n",
              "      <th>Building_Type</th>\n",
              "      <th>Date_of_Occupancy</th>\n",
              "      <th>Claim</th>\n",
              "    </tr>\n",
              "  </thead>\n",
              "  <tbody>\n",
              "    <tr>\n",
              "      <th>0</th>\n",
              "      <td>14663</td>\n",
              "      <td>2013</td>\n",
              "      <td>1.0</td>\n",
              "      <td>0</td>\n",
              "      <td>N</td>\n",
              "      <td>V</td>\n",
              "      <td>V</td>\n",
              "      <td>U</td>\n",
              "      <td>290.0</td>\n",
              "      <td>1</td>\n",
              "      <td>1960</td>\n",
              "      <td>0</td>\n",
              "    </tr>\n",
              "    <tr>\n",
              "      <th>1</th>\n",
              "      <td>2037</td>\n",
              "      <td>2015</td>\n",
              "      <td>1.0</td>\n",
              "      <td>0</td>\n",
              "      <td>V</td>\n",
              "      <td>N</td>\n",
              "      <td>O</td>\n",
              "      <td>R</td>\n",
              "      <td>490.0</td>\n",
              "      <td>1</td>\n",
              "      <td>1850</td>\n",
              "      <td>0</td>\n",
              "    </tr>\n",
              "    <tr>\n",
              "      <th>2</th>\n",
              "      <td>3802</td>\n",
              "      <td>2014</td>\n",
              "      <td>1.0</td>\n",
              "      <td>0</td>\n",
              "      <td>N</td>\n",
              "      <td>V</td>\n",
              "      <td>V</td>\n",
              "      <td>U</td>\n",
              "      <td>595.0</td>\n",
              "      <td>1</td>\n",
              "      <td>1960</td>\n",
              "      <td>0</td>\n",
              "    </tr>\n",
              "    <tr>\n",
              "      <th>3</th>\n",
              "      <td>3834</td>\n",
              "      <td>2013</td>\n",
              "      <td>1.0</td>\n",
              "      <td>0</td>\n",
              "      <td>V</td>\n",
              "      <td>V</td>\n",
              "      <td>V</td>\n",
              "      <td>U</td>\n",
              "      <td>2840.0</td>\n",
              "      <td>1</td>\n",
              "      <td>1960</td>\n",
              "      <td>0</td>\n",
              "    </tr>\n",
              "    <tr>\n",
              "      <th>4</th>\n",
              "      <td>5053</td>\n",
              "      <td>2014</td>\n",
              "      <td>1.0</td>\n",
              "      <td>0</td>\n",
              "      <td>V</td>\n",
              "      <td>N</td>\n",
              "      <td>O</td>\n",
              "      <td>R</td>\n",
              "      <td>680.0</td>\n",
              "      <td>1</td>\n",
              "      <td>1800</td>\n",
              "      <td>0</td>\n",
              "    </tr>\n",
              "  </tbody>\n",
              "</table>\n",
              "</div>"
            ],
            "text/plain": [
              "   Customer Id  YearOfObservation  ...  Date_of_Occupancy  Claim\n",
              "0        14663               2013  ...               1960      0\n",
              "1         2037               2015  ...               1850      0\n",
              "2         3802               2014  ...               1960      0\n",
              "3         3834               2013  ...               1960      0\n",
              "4         5053               2014  ...               1800      0\n",
              "\n",
              "[5 rows x 12 columns]"
            ]
          },
          "metadata": {
            "tags": []
          },
          "execution_count": 122
        }
      ]
    },
    {
      "cell_type": "code",
      "metadata": {
        "id": "QJZrHKWTULrD",
        "colab_type": "code",
        "colab": {
          "base_uri": "https://localhost:8080/",
          "height": 631
        },
        "outputId": "74d2001c-1924-4743-8d80-ed2853172289"
      },
      "source": [
        "f,  ((ax1, ax2), (ax3, ax4)) = plt.subplots(nrows=2,ncols=2, figsize=(12,8))\n",
        "f.tight_layout()\n",
        "f.subplots_adjust(wspace=0.2, hspace=0.5)\n",
        "\n",
        "\n",
        "\n",
        "\n",
        "\n",
        "sns.countplot(x=\"Building_Type\",ax=ax1, data=no_claim)\n",
        "sns.countplot(x=\"Residential\",ax=ax2, data=no_claim)\n",
        "sns.countplot(x=\"Settlement\",ax=ax3, data=no_claim)\n",
        "sns.countplot(x=\"Building_Fenced\",ax=ax4, data=no_claim)\n",
        "\n",
        "ax1.set_title(\"Building Type\")\n",
        "ax2.set_title(\"Residential or Others\")\n",
        "ax3.set_title(\"Settlement Area\")\n",
        "ax4.set_title(\"Fenced Buildings\")"
      ],
      "execution_count": 123,
      "outputs": [
        {
          "output_type": "execute_result",
          "data": {
            "text/plain": [
              "Text(0.5, 1.0, 'Fenced Buildings')"
            ]
          },
          "metadata": {
            "tags": []
          },
          "execution_count": 123
        },
        {
          "output_type": "display_data",
          "data": {
            "image/png": "[encoded data removed]",
            "text/plain": [
              "<Figure size 864x576 with 4 Axes>"
            ]
          },
          "metadata": {
            "tags": []
          }
        }
      ]
    },
    {
      "cell_type": "code",
      "metadata": {
        "id": "wPjGFwhaUL5h",
        "colab_type": "code",
        "colab": {}
      },
      "source": [
        "train.head()"
      ],
      "execution_count": null,
      "outputs": []
    },
    {
      "cell_type": "markdown",
      "metadata": {
        "id": "2QuRIcmfaGjP",
        "colab_type": "text"
      },
      "source": [
        "**<h1>Modelling<h1>**"
      ]
    },
    {
      "cell_type": "code",
      "metadata": {
        "id": "Bsz49xrlaPjY",
        "colab_type": "code",
        "colab": {}
      },
      "source": [
        "#importing necessary libraries\n",
        "\n",
        "from sklearn import linear_model\n",
        "from sklearn.model_selection import train_test_split\n",
        "from sklearn.preprocessing import LabelEncoder\n",
        "from sklearn import preprocessing \n",
        "from sklearn.linear_model import LogisticRegression\n",
        "from sklearn.metrics import accuracy_score,confusion_matrix"
      ],
      "execution_count": 178,
      "outputs": []
    },
    {
      "cell_type": "code",
      "metadata": {
        "id": "nEfLEcS-aR6p",
        "colab_type": "code",
        "colab": {}
      },
      "source": [
        "label_encoder = preprocessing.LabelEncoder()"
      ],
      "execution_count": 179,
      "outputs": []
    },
    {
      "cell_type": "code",
      "metadata": {
        "id": "BByY4LuJabPH",
        "colab_type": "code",
        "colab": {}
      },
      "source": [
        "#tranforming columns to the data type that the training data can understand\n",
        "#all data should be integers or floats and not strings\n",
        "\n",
        "train[\"Building_Painted\"] =label_encoder.fit_transform(train[\"Building_Painted\"])\n",
        "train[\"Building_Fenced\"] =label_encoder.fit_transform(train[\"Building_Fenced\"])\n",
        "train[\"Garden\"] =label_encoder.fit_transform(train[\"Garden\"])\n",
        "train[\"Settlement\"]=label_encoder.fit_transform(train[\"Settlement\"])"
      ],
      "execution_count": 180,
      "outputs": []
    },
    {
      "cell_type": "code",
      "metadata": {
        "id": "_rAUfGW3b0fx",
        "colab_type": "code",
        "colab": {}
      },
      "source": [
        "#tranforming columns to the data type that the test data can understand\n",
        "#all data should be integers or floats and not strings\n",
        "\n",
        "#test[\"Building_Painted\"] =label_encoder.fit_transform(test[\"Building_Painted\"])\n",
        "#test[\"Building_Fenced\"] =label_encoder.fit_transform(test[\"Building_Fenced\"])\n",
        "#test[\"Garden\"] =label_encoder.fit_transform(test[\"Garden\"])\n",
        "#test[\"Settlement\"]=label_encoder.fit_transform(test[\"Settlement\"])"
      ],
      "execution_count": 181,
      "outputs": []
    },
    {
      "cell_type": "code",
      "metadata": {
        "id": "zWi0vV0Qptfo",
        "colab_type": "code",
        "colab": {}
      },
      "source": [
        "#calling our model\n",
        "\n",
        "reg = linear_model.LinearRegression()"
      ],
      "execution_count": 182,
      "outputs": []
    },
    {
      "cell_type": "code",
      "metadata": {
        "id": "PJ1YTYTRPOI5",
        "colab_type": "code",
        "colab": {
          "base_uri": "https://localhost:8080/",
          "height": 206
        },
        "outputId": "c6776bb3-02ec-486e-ce4f-3da126a169d2"
      },
      "source": [
        "train.head()"
      ],
      "execution_count": 183,
      "outputs": [
        {
          "output_type": "execute_result",
          "data": {
            "text/html": [
              "<div>\n",
              "<style scoped>\n",
              "    .dataframe tbody tr th:only-of-type {\n",
              "        vertical-align: middle;\n",
              "    }\n",
              "\n",
              "    .dataframe tbody tr th {\n",
              "        vertical-align: top;\n",
              "    }\n",
              "\n",
              "    .dataframe thead th {\n",
              "        text-align: right;\n",
              "    }\n",
              "</style>\n",
              "<table border=\"1\" class=\"dataframe\">\n",
              "  <thead>\n",
              "    <tr style=\"text-align: right;\">\n",
              "      <th></th>\n",
              "      <th>Customer Id</th>\n",
              "      <th>YearOfObservation</th>\n",
              "      <th>Insured_Period</th>\n",
              "      <th>Residential</th>\n",
              "      <th>Building_Painted</th>\n",
              "      <th>Building_Fenced</th>\n",
              "      <th>Garden</th>\n",
              "      <th>Settlement</th>\n",
              "      <th>Building Dimension</th>\n",
              "      <th>Building_Type</th>\n",
              "      <th>Date_of_Occupancy</th>\n",
              "      <th>Claim</th>\n",
              "    </tr>\n",
              "  </thead>\n",
              "  <tbody>\n",
              "    <tr>\n",
              "      <th>0</th>\n",
              "      <td>14663</td>\n",
              "      <td>2013</td>\n",
              "      <td>1.0</td>\n",
              "      <td>0</td>\n",
              "      <td>0</td>\n",
              "      <td>1</td>\n",
              "      <td>1</td>\n",
              "      <td>1</td>\n",
              "      <td>290.0</td>\n",
              "      <td>1</td>\n",
              "      <td>1960</td>\n",
              "      <td>0</td>\n",
              "    </tr>\n",
              "    <tr>\n",
              "      <th>1</th>\n",
              "      <td>2037</td>\n",
              "      <td>2015</td>\n",
              "      <td>1.0</td>\n",
              "      <td>0</td>\n",
              "      <td>1</td>\n",
              "      <td>0</td>\n",
              "      <td>0</td>\n",
              "      <td>0</td>\n",
              "      <td>490.0</td>\n",
              "      <td>1</td>\n",
              "      <td>1850</td>\n",
              "      <td>0</td>\n",
              "    </tr>\n",
              "    <tr>\n",
              "      <th>2</th>\n",
              "      <td>3802</td>\n",
              "      <td>2014</td>\n",
              "      <td>1.0</td>\n",
              "      <td>0</td>\n",
              "      <td>0</td>\n",
              "      <td>1</td>\n",
              "      <td>1</td>\n",
              "      <td>1</td>\n",
              "      <td>595.0</td>\n",
              "      <td>1</td>\n",
              "      <td>1960</td>\n",
              "      <td>0</td>\n",
              "    </tr>\n",
              "    <tr>\n",
              "      <th>3</th>\n",
              "      <td>3834</td>\n",
              "      <td>2013</td>\n",
              "      <td>1.0</td>\n",
              "      <td>0</td>\n",
              "      <td>1</td>\n",
              "      <td>1</td>\n",
              "      <td>1</td>\n",
              "      <td>1</td>\n",
              "      <td>2840.0</td>\n",
              "      <td>1</td>\n",
              "      <td>1960</td>\n",
              "      <td>0</td>\n",
              "    </tr>\n",
              "    <tr>\n",
              "      <th>4</th>\n",
              "      <td>5053</td>\n",
              "      <td>2014</td>\n",
              "      <td>1.0</td>\n",
              "      <td>0</td>\n",
              "      <td>1</td>\n",
              "      <td>0</td>\n",
              "      <td>0</td>\n",
              "      <td>0</td>\n",
              "      <td>680.0</td>\n",
              "      <td>1</td>\n",
              "      <td>1800</td>\n",
              "      <td>0</td>\n",
              "    </tr>\n",
              "  </tbody>\n",
              "</table>\n",
              "</div>"
            ],
            "text/plain": [
              "   Customer Id  YearOfObservation  ...  Date_of_Occupancy  Claim\n",
              "0        14663               2013  ...               1960      0\n",
              "1         2037               2015  ...               1850      0\n",
              "2         3802               2014  ...               1960      0\n",
              "3         3834               2013  ...               1960      0\n",
              "4         5053               2014  ...               1800      0\n",
              "\n",
              "[5 rows x 12 columns]"
            ]
          },
          "metadata": {
            "tags": []
          },
          "execution_count": 183
        }
      ]
    },
    {
      "cell_type": "code",
      "metadata": {
        "id": "4a9f4yJbp61t",
        "colab_type": "code",
        "colab": {}
      },
      "source": [
        "x = train.drop([\"Claim\",\"Customer Id\"], axis=1)\n",
        "y = train[\"Claim\"]"
      ],
      "execution_count": 184,
      "outputs": []
    },
    {
      "cell_type": "code",
      "metadata": {
        "id": "CFAMKssAqQkQ",
        "colab_type": "code",
        "colab": {}
      },
      "source": [
        "#splitting our training data into 2\n",
        "\n",
        "x_train, x_test, y_train, y_test = train_test_split(x,y, test_size= 0.30, random_state=42)"
      ],
      "execution_count": 185,
      "outputs": []
    },
    {
      "cell_type": "code",
      "metadata": {
        "id": "jgWNHTOkqwzN",
        "colab_type": "code",
        "colab": {}
      },
      "source": [
        "par = LogisticRegression()"
      ],
      "execution_count": 186,
      "outputs": []
    },
    {
      "cell_type": "code",
      "metadata": {
        "id": "spvlmnwfq0Bt",
        "colab_type": "code",
        "colab": {
          "base_uri": "https://localhost:8080/",
          "height": 110
        },
        "outputId": "f87ef719-de36-45e0-f108-bdf7e5382c89"
      },
      "source": [
        "#training our model\n",
        "\n",
        "par.fit(x_train,y_train)"
      ],
      "execution_count": 187,
      "outputs": [
        {
          "output_type": "execute_result",
          "data": {
            "text/plain": [
              "LogisticRegression(C=1.0, class_weight=None, dual=False, fit_intercept=True,\n",
              "                   intercept_scaling=1, l1_ratio=None, max_iter=100,\n",
              "                   multi_class='auto', n_jobs=None, penalty='l2',\n",
              "                   random_state=None, solver='lbfgs', tol=0.0001, verbose=0,\n",
              "                   warm_start=False)"
            ]
          },
          "metadata": {
            "tags": []
          },
          "execution_count": 187
        }
      ]
    },
    {
      "cell_type": "code",
      "metadata": {
        "id": "60AZmHYHuGHT",
        "colab_type": "code",
        "colab": {}
      },
      "source": [
        "#testing the model\n",
        "\n",
        "pred = par.predict(x_test)"
      ],
      "execution_count": 188,
      "outputs": []
    },
    {
      "cell_type": "code",
      "metadata": {
        "id": "4tXDrcaFucSj",
        "colab_type": "code",
        "colab": {
          "base_uri": "https://localhost:8080/",
          "height": 36
        },
        "outputId": "1414ca15-7537-4a93-92cf-d19ac08a32bc"
      },
      "source": [
        "#checking the accuracy of the model\n",
        "\n",
        "accuracy_score(pred,y_test)"
      ],
      "execution_count": 189,
      "outputs": [
        {
          "output_type": "execute_result",
          "data": {
            "text/plain": [
              "0.7793296089385475"
            ]
          },
          "metadata": {
            "tags": []
          },
          "execution_count": 189
        }
      ]
    },
    {
      "cell_type": "code",
      "metadata": {
        "id": "qKWARhCkyMEZ",
        "colab_type": "code",
        "colab": {
          "base_uri": "https://localhost:8080/",
          "height": 54
        },
        "outputId": "95def2af-dfb4-4dcb-934d-96a905425b26"
      },
      "source": [
        "#checking accuracy of the model\n",
        "\n",
        "confusion_matrix(pred, y_test)"
      ],
      "execution_count": 190,
      "outputs": [
        {
          "output_type": "execute_result",
          "data": {
            "text/plain": [
              "array([[1615,  433],\n",
              "       [  41,   59]])"
            ]
          },
          "metadata": {
            "tags": []
          },
          "execution_count": 190
        }
      ]
    },
    {
      "cell_type": "code",
      "metadata": {
        "id": "tqd5wNduFQXS",
        "colab_type": "code",
        "colab": {}
      },
      "source": [
        ""
      ],
      "execution_count": null,
      "outputs": []
    }
  ]
}